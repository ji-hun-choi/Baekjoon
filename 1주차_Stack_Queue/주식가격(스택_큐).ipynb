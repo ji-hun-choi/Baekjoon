{
  "nbformat": 4,
  "nbformat_minor": 0,
  "metadata": {
    "colab": {
      "name": "주식가격(스택/큐).ipynb",
      "provenance": [],
      "authorship_tag": "ABX9TyP4hk+ovwDVgCHbJSKPWVkE",
      "include_colab_link": true
    },
    "kernelspec": {
      "name": "python3",
      "display_name": "Python 3"
    },
    "language_info": {
      "name": "python"
    }
  },
  "cells": [
    {
      "cell_type": "markdown",
      "metadata": {
        "id": "view-in-github",
        "colab_type": "text"
      },
      "source": [
        "<a href=\"https://colab.research.google.com/github/ji-hun-choi/Baekjoon/blob/main/1%EC%A3%BC%EC%B0%A8_Stack_Queue/%EC%A3%BC%EC%8B%9D%EA%B0%80%EA%B2%A9(%EC%8A%A4%ED%83%9D_%ED%81%90).ipynb\" target=\"_parent\"><img src=\"https://colab.research.google.com/assets/colab-badge.svg\" alt=\"Open In Colab\"/></a>"
      ]
    },
    {
      "cell_type": "markdown",
      "source": [
        "# 프로그래머스-코딩테스트\n",
        "\n"
      ],
      "metadata": {
        "id": "qHRCkZf1KX7k"
      }
    },
    {
      "cell_type": "markdown",
      "source": [
        "## 문제 설명\n",
        "- 초 단위로 기록된 주식가격이 담긴 배열 prices가 매개변수로 주어질 때\n",
        "- 가격이 떨어지지 않은 기간은 몇 초인지를 return 하도록 solution 함수를 완성하기"
      ],
      "metadata": {
        "id": "QVyRWr9SP5tN"
      }
    },
    {
      "cell_type": "markdown",
      "source": [
        "## 제한사항"
      ],
      "metadata": {
        "id": "Ve8yP38EP9OX"
      }
    },
    {
      "cell_type": "markdown",
      "source": [
        "- prices의 각 가격은 1 이상 10,000 이하인 자연수\n",
        "- prices의 길이는 2 이상 100,000 이하"
      ],
      "metadata": {
        "id": "aOBz34bfP9MU"
      }
    },
    {
      "cell_type": "markdown",
      "source": [
        "# 입출력 예\n",
        "```\n",
        "    prices       \treturn\n",
        "[1, 2, 3, 2, 3]\t[4, 3, 1, 1, 0]\n",
        "```"
      ],
      "metadata": {
        "id": "aM262fQCQPNo"
      }
    },
    {
      "cell_type": "markdown",
      "source": [
        "## 접근 방법"
      ],
      "metadata": {
        "id": "diSYMvEpQtqy"
      }
    },
    {
      "cell_type": "markdown",
      "source": [
        "- 스택으로 해결?\n",
        "    - 나중에 길이 구하기 벙거로워짐\n",
        "-  리스트 탐색?\n",
        "    - 괜찮아 보임.\n",
        "- 예시 1, 2, 3, 2, 3 에서 \n",
        "- 네번째(2)에서 세번째(3)보다 작으니 같은 숫자 두개(2,4)의 길이를 뺀 값\n",
        "- 1은 없으니 총 길이 \n",
        "- 3은 숫자는 같으니 제외가 안됨.\n",
        "\n",
        "\n",
        "\n",
        "**대충 끄적여 보니 가능할 것 같아서 손코딩**"
      ],
      "metadata": {
        "id": "leRyAMg8OGSJ"
      }
    },
    {
      "cell_type": "markdown",
      "source": [
        "# 손 코딩\n",
        "    - 처음으로 answer은 배열로 똑같은 길이의 값이 나온다 생각하여 나중에 입력이 쉽게 0으로 세팅을 해놓았다.\n",
        "    - 다음으로 prices를 순서대로 나열을 해야된다고 생각을 했다.\n",
        "        - 왜냐하면 뒷부분에서 값이 나오든 안나오든 길이를 측정을 해야된다고 생각을 해서이다.\n",
        "        - 그다음 나열된 숫자의 뒷부분을 서칭해서 비교를 한 후 길이를 계산해야 된다고 생각을 했다.\n",
        "\n",
        "```\n",
        "ans = [0] * prices 길이\n",
        "for 인덱스, 값 in enumerate(prices) 나열 \n",
        "    for j <- 인덱스+1(자신보다 큰 인덱스)~prices길이:\n",
        "        prices[인덱스] 가 prices[j] 클 경우\n",
        "        스탑 : j번째를 가지기 위해서\n",
        "    ans 각 인덱스에 j - i 입력.\n",
        "```"
      ],
      "metadata": {
        "id": "anihddF8L7kZ"
      }
    },
    {
      "cell_type": "code",
      "execution_count": 1,
      "metadata": {
        "id": "cexrEuIkKWq7"
      },
      "outputs": [],
      "source": [
        "def solution(prices):\n",
        "    answer = [0] * len(prices)\n",
        "    for i, v in enumerate(prices): # prices 나열\n",
        "        for j in range(i+1, len(prices)): # 현재보다 뒤에 있는 값을 계산\n",
        "            if prices[i] > prices[j]: # 현재 숫자(i)가 더 크면 j 종료\n",
        "                break\n",
        "        answer[i] = j - i \n",
        "    return answer"
      ]
    },
    {
      "cell_type": "code",
      "source": [
        "solution([1,2,3,2,3])"
      ],
      "metadata": {
        "colab": {
          "base_uri": "https://localhost:8080/"
        },
        "id": "HXKETM5MKoeF",
        "outputId": "2ad3f1cb-b7dc-4031-c9cc-a2c2dd78945f"
      },
      "execution_count": 2,
      "outputs": [
        {
          "output_type": "execute_result",
          "data": {
            "text/plain": [
              "[4, 3, 1, 1, 0]"
            ]
          },
          "metadata": {},
          "execution_count": 2
        }
      ]
    }
  ]
}