{
  "nbformat": 4,
  "nbformat_minor": 0,
  "metadata": {
    "colab": {
      "name": "0317_파이썬기초4(반복문)",
      "provenance": [],
      "collapsed_sections": [
        "mnBMilKpCYuo",
        "hNlvTfYnEVBX",
        "HkSmuR3wCnFt",
        "ZJ-onNzYCxXE",
        "OXEgavPpC-bd",
        "_9Vm7mLSDiak",
        "2xl4IvgPFN79",
        "P_Tv9WUoFneN",
        "jCo37FkdGIFV",
        "778W2OUvGOle",
        "TMjaElwCdqQq",
        "TmvJ09nmpNmD",
        "8IecScHRx43X",
        "8zJrnzNZxf7W",
        "VxANyInc3WIL",
        "1gy7FWE27LZ6"
      ],
      "toc_visible": true,
      "machine_shape": "hm",
      "include_colab_link": true
    },
    "kernelspec": {
      "name": "python3",
      "display_name": "Python 3"
    },
    "language_info": {
      "name": "python"
    }
  },
  "cells": [
    {
      "cell_type": "markdown",
      "metadata": {
        "id": "view-in-github",
        "colab_type": "text"
      },
      "source": [
        "<a href=\"https://colab.research.google.com/github/ji-hun-choi/Baekjoon/blob/main/iTStudy/0317_%ED%8C%8C%EC%9D%B4%EC%8D%AC%EA%B8%B0%EC%B4%884(%EB%B0%98%EB%B3%B5%EB%AC%B8).ipynb\" target=\"_parent\"><img src=\"https://colab.research.google.com/assets/colab-badge.svg\" alt=\"Open In Colab\"/></a>"
      ]
    },
    {
      "cell_type": "markdown",
      "source": [
        "# 0. 복습\n",
        "\n",
        "#### 1-1. 아래 출력결과를 예상해보시고 실제로 출력해보세요. 주석으로 왜 이런 결과가 나오는지도 설명을 달아주세요.\n",
        "\n",
        "```\n",
        "if True :\n",
        "    print (\"1\")\n",
        "    print (\"2\")\n",
        "else :\n",
        "    print(\"3\")\n",
        "print(\"4\")\n",
        "```"
      ],
      "metadata": {
        "id": "mnBMilKpCYuo"
      }
    },
    {
      "cell_type": "code",
      "execution_count": 21,
      "metadata": {
        "id": "MfMVGbScBcRU",
        "colab": {
          "base_uri": "https://localhost:8080/"
        },
        "outputId": "3870a417-98da-4cdd-912c-591c6a69520b"
      },
      "outputs": [
        {
          "output_type": "stream",
          "name": "stdout",
          "text": [
            "1\n",
            "2\n",
            "4\n"
          ]
        }
      ],
      "source": [
        "#1\n",
        "#2\n",
        "#4\n",
        "if True : # if문 True 시작\n",
        "    print (\"1\") # print(1) 출력\n",
        "    print (\"2\") # print(2) 출력 후 if-else구문 탈출\n",
        "else :             \n",
        "    print(\"3\")\n",
        "print(\"4\") # print(4) 출력 후 종료\n",
        " # True를 들어가 1과 2가 프린트 되고 여기서 if-else구문이 끝난다. 다음 4가 출력이 되며 종료된다"
      ]
    },
    {
      "cell_type": "markdown",
      "source": [
        "\n",
        "#### 1-2. 응답하라 1998\n",
        "- 휴대폰 번호 앞자리에 따라 통신사가 아래와 같이 구분되던 시절이 있었습니다. 사용자로부터 휴대전화 번호를 입력 받고, 통신사를 출력하는 프로그램을 작성해보세요. 입력받을 때 '-'기호는 넣거나 말거나 영향을 미치지 않습니다.\n",
        "\n",
        "- 힌트 : \n",
        "\n",
        "휴대전화번호 앞 3개 확인은 str도 배열(튜플)의 속성을 가지고 있다는 것을 활용합니다. \n",
        "\n",
        "\n",
        "~~~\n",
        "번호\t통신사\n",
        "011\tSKT\n",
        "016\tKT\n",
        "019\tLGU\n",
        "010\t알수없음\n"
      ],
      "metadata": {
        "id": "hNlvTfYnEVBX"
      }
    },
    {
      "cell_type": "code",
      "source": [
        "phone_num = input(\"핸드폰 번호를 입력하세요\")\n",
        "\n",
        "if phone_num[:2] != '01':\n",
        "    print('핸드폰 번호를 잘 입력하세요.')\n",
        "else :\n",
        "    if ('1' or ' 6' or '9') in phone_num[2:3] :\n",
        "        if phone_num[:3] == '011':\n",
        "            print('SKT')\n",
        "        elif phone_num[:3] == '016':\n",
        "            print('KT')\n",
        "        elif phone_num[:3] == '019':\n",
        "            print('LGU')\n",
        "    else :\n",
        "        print('알수없음')"
      ],
      "metadata": {
        "id": "_QapzlaaDsJG",
        "colab": {
          "base_uri": "https://localhost:8080/"
        },
        "outputId": "216f3d09-6276-4a71-ab5b-7c291ac13db8"
      },
      "execution_count": 29,
      "outputs": [
        {
          "output_type": "stream",
          "name": "stdout",
          "text": [
            "핸드폰 번호를 입력하세요011\n",
            "SKT\n"
          ]
        }
      ]
    },
    {
      "cell_type": "markdown",
      "source": [
        "#### 2-1. input() 메소드를 사용하여 숫자를 입력받은 후 그 숫자가 10 이상인 경우에는 'OK'가, 10 미만인 경우에는 'TRY AGAIN'이 출력되도록 프로그래밍해주세요."
      ],
      "metadata": {
        "id": "HkSmuR3wCnFt"
      }
    },
    {
      "cell_type": "code",
      "source": [
        "a = int(input())\n",
        "if a >= 10:\n",
        "    print('OK')\n",
        "else:\n",
        "    print('TRY AGAIN')"
      ],
      "metadata": {
        "id": "i2gS6GOaCogl",
        "colab": {
          "base_uri": "https://localhost:8080/"
        },
        "outputId": "961f2c49-34e0-4ab9-fb7c-0900df30a093"
      },
      "execution_count": 2,
      "outputs": [
        {
          "output_type": "stream",
          "name": "stdout",
          "text": [
            "1\n",
            "TRY AGAIN\n",
            "-1\n",
            "TRY AGAIN\n",
            "11\n",
            "OK\n"
          ]
        }
      ]
    },
    {
      "cell_type": "markdown",
      "source": [
        "#### 2-2. while문과 input() 메소드를 사용하여 숫자를 입력받은 후 그 숫자가 10 이상인 경우에는 'OK'가, 10 미만인 경우에는 'TRY AGAIN'이 출력되고 다시 입력창이 뜨도록 프로그래밍해주세요."
      ],
      "metadata": {
        "id": "ZJ-onNzYCxXE"
      }
    },
    {
      "cell_type": "code",
      "source": [
        "while(True):\n",
        "    a = int(input())\n",
        "    if a >= 10:\n",
        "        print('OK')\n",
        "        break\n",
        "    else:\n",
        "        print('TRY AGAIN')"
      ],
      "metadata": {
        "id": "GEyova-hCpx2"
      },
      "execution_count": null,
      "outputs": []
    },
    {
      "cell_type": "markdown",
      "source": [
        "#### 3-1. 한영사전 만들기\n",
        "\n",
        "아래의 fruits 딕셔너리를 참조하여 \n",
        "- 사용자로부터 한글로 과일 이름을 입력받고\n",
        "- 사용자가 입력한 과일이 fruits 딕셔너리의 key값에 있을 경우 해당 key의 value 값을, \n",
        "- 없을 경우 '사전에 없는 단어입니다'를 출력하도록 프로그래밍하세요.\n",
        "```\n",
        "fruits = {'사과': 'Apple', '바나나': 'Banana', '딸기': 'Strawberry'}\n"
      ],
      "metadata": {
        "id": "OXEgavPpC-bd"
      }
    },
    {
      "cell_type": "code",
      "source": [
        "fruits = {'사과': 'Apple', '바나나': 'Banana', '딸기': 'Strawberry'}"
      ],
      "metadata": {
        "id": "0u539Oy_C0Xe"
      },
      "execution_count": 9,
      "outputs": []
    },
    {
      "cell_type": "code",
      "source": [
        "fruit_in = input('과일을 입력하세요 : ')\n",
        "\n",
        "if fruit_in in fruits.keys() : # fruits의 키값에서 확인\n",
        "    print(fruits[fruit_in]) # value 값 출력\n",
        "else:\n",
        "    print('사전에 없는 단어입니다.')"
      ],
      "metadata": {
        "id": "sa0np7RIDZ4H",
        "colab": {
          "base_uri": "https://localhost:8080/"
        },
        "outputId": "c2e953a9-2a23-4277-9234-25d28a795ab8"
      },
      "execution_count": 11,
      "outputs": [
        {
          "output_type": "stream",
          "name": "stdout",
          "text": [
            "과일을 입력하세요자몽\n",
            "사전에 없는 단어입니다.\n"
          ]
        }
      ]
    },
    {
      "cell_type": "markdown",
      "source": [
        "#### 3-2. 한영사전 만들기 II\n",
        "- 사용자가 입력한 과일이 \n",
        "- fruits 딕셔너리의 key값에 있을 경우 해당 key의 value 값을, \n",
        "- 없을 경우 '사전에 없는 단어입니다'를 출력 후 다시 입력창이 뜨도록 프로그래밍해주세요. \n",
        "- 사용자가 사전에 있는 과일 이름을 입력하면 프로그램은 자동 종료됩니다."
      ],
      "metadata": {
        "id": "_9Vm7mLSDiak"
      }
    },
    {
      "cell_type": "code",
      "source": [
        "while(True):\n",
        "    fruit_in = input('과일을 입력하세요 : ')\n",
        "\n",
        "    if fruit_in in fruits.keys() :\n",
        "        print(fruits[fruit_in])\n",
        "        break\n",
        "    else:\n",
        "        print('사전에 없는 단어입니다.')"
      ],
      "metadata": {
        "id": "p_JFJQ1yDbgt",
        "colab": {
          "base_uri": "https://localhost:8080/"
        },
        "outputId": "ddb4c1fc-e752-4a62-bc2a-601137acf767"
      },
      "execution_count": 13,
      "outputs": [
        {
          "output_type": "stream",
          "name": "stdout",
          "text": [
            "과일을 입력하세요 : 과일\n",
            "사전에 없는 단어입니다.\n",
            "과일을 입력하세요 : 사과\n",
            "Apple\n"
          ]
        }
      ]
    },
    {
      "cell_type": "markdown",
      "source": [
        "#### 4. 다음 코드를 for문으로 작성해 보세요.\n",
        "~~~\n",
        "a = 10\n",
        "print(a)\n",
        "a = 20\n",
        "print(a)\n",
        "a = 30\n",
        "print(a)\n",
        "~~~"
      ],
      "metadata": {
        "id": "2xl4IvgPFN79"
      }
    },
    {
      "cell_type": "code",
      "source": [
        "a = [10, 20, 30]\n",
        "for i in a:\n",
        "    print(i)"
      ],
      "metadata": {
        "id": "8IN8Wv9DE9M_",
        "colab": {
          "base_uri": "https://localhost:8080/"
        },
        "outputId": "5534bd6f-c97c-47ba-c0ca-7a148ac90f6d"
      },
      "execution_count": 14,
      "outputs": [
        {
          "output_type": "stream",
          "name": "stdout",
          "text": [
            "10\n",
            "20\n",
            "30\n"
          ]
        }
      ]
    },
    {
      "cell_type": "markdown",
      "source": [
        "5. 다음 코드를 for문으로 작성해주세요.\n",
        "```\n",
        "print('1번 끝')\n",
        "print(\"-------\")\n",
        "print('2번 끝')\n",
        "print(\"-------\")\n",
        "print('3번 끝')\n",
        "print(\"-------\")\n",
        "```"
      ],
      "metadata": {
        "id": "DZmS_pdoFYHU"
      }
    },
    {
      "cell_type": "code",
      "source": [
        "for i in range(1,4):\n",
        "    print(f'{i}번 끝')\n",
        "    print(\"-------\")"
      ],
      "metadata": {
        "id": "YDB3pthCFUZ3",
        "colab": {
          "base_uri": "https://localhost:8080/"
        },
        "outputId": "53e5b855-cfca-48ac-ab66-38d75c35d488"
      },
      "execution_count": 15,
      "outputs": [
        {
          "output_type": "stream",
          "name": "stdout",
          "text": [
            "1번 끝\n",
            "-------\n",
            "2번 끝\n",
            "-------\n",
            "3번 끝\n",
            "-------\n"
          ]
        }
      ]
    },
    {
      "cell_type": "markdown",
      "source": [
        "#### 6. for 반복문과 조건문을 사용하여 아래의 리스트에서 음수만을 출력하세요.\n",
        "~~~\n",
        "list1 = [-2, 1, 4, -88, 12, -12]\n",
        "~~~"
      ],
      "metadata": {
        "id": "P_Tv9WUoFneN"
      }
    },
    {
      "cell_type": "code",
      "source": [
        "list1 = [-2, 1, 4, -88, 12, -12]"
      ],
      "metadata": {
        "id": "-P6rYdOPFbRd"
      },
      "execution_count": 16,
      "outputs": []
    },
    {
      "cell_type": "code",
      "source": [
        "for i in list1:\n",
        "    if i < 0 :\n",
        "        print(i, end=' ')"
      ],
      "metadata": {
        "id": "MwP7Tr0UFsYm",
        "colab": {
          "base_uri": "https://localhost:8080/"
        },
        "outputId": "f91230d2-392f-4eee-bb01-9999e3e8ed09"
      },
      "execution_count": 17,
      "outputs": [
        {
          "output_type": "stream",
          "name": "stdout",
          "text": [
            "-2 -88 -12 "
          ]
        }
      ]
    },
    {
      "cell_type": "markdown",
      "source": [
        "#### 7-1. for와 range를 사용하여 1에서 40까지 숫자들 중 4의 배수만을 출력해보세요."
      ],
      "metadata": {
        "id": "jCo37FkdGIFV"
      }
    },
    {
      "cell_type": "code",
      "source": [
        "for i in range(0,41,4):\n",
        "    if i > 0:\n",
        "        print(i, end=\" \")\n",
        "\n",
        "\n",
        "# for i in range(1,41):\n",
        "#     if i % 4 == 0 :\n",
        "#         print(i, end=\" \")"
      ],
      "metadata": {
        "id": "HkMDJuJxFtxu",
        "colab": {
          "base_uri": "https://localhost:8080/"
        },
        "outputId": "5d23a3d3-d20d-4d41-dc7b-20b5962ecdfa"
      },
      "execution_count": 32,
      "outputs": [
        {
          "output_type": "stream",
          "name": "stdout",
          "text": [
            "4 8 12 16 20 24 28 32 36 40 0 4 8 12 16 20 24 28 32 36 40 "
          ]
        }
      ]
    },
    {
      "cell_type": "markdown",
      "source": [
        "#### 7-2. for와 range를 사용하여 1에서 40까지 숫자들 중 4의 배수만을 거꾸로 출력해보세요."
      ],
      "metadata": {
        "id": "778W2OUvGOle"
      }
    },
    {
      "cell_type": "code",
      "source": [
        "for i in range(40,0,-4):\n",
        "    print(i, end=\" \")"
      ],
      "metadata": {
        "id": "WTcqQAcQGTMZ",
        "colab": {
          "base_uri": "https://localhost:8080/"
        },
        "outputId": "7777f7b7-03a5-4c54-ec06-370d621b5594"
      },
      "execution_count": 36,
      "outputs": [
        {
          "output_type": "stream",
          "name": "stdout",
          "text": [
            "40 36 32 28 24 20 16 12 8 4 "
          ]
        }
      ]
    },
    {
      "cell_type": "markdown",
      "source": [
        "### 반복문\n",
        "- 중첩 반복문으로 1~9단을 직접 출력 해보았었다.\n",
        "- while 문으로도 중첩이 가능할까?"
      ],
      "metadata": {
        "id": "TMjaElwCdqQq"
      }
    },
    {
      "cell_type": "markdown",
      "source": [
        "### 중첩 while문으로 구구단 만들기"
      ],
      "metadata": {
        "id": "TmvJ09nmpNmD"
      }
    },
    {
      "cell_type": "code",
      "source": [
        "i = 1\n",
        "while(True):\n",
        "    j = 1\n",
        "    print(i,\"단\")\n",
        "    while(True):\n",
        "        print(i,\"X\",j,\"=\",i*j)\n",
        "        j += 1\n",
        "        if(j == 10):\n",
        "            break\n",
        "    print()\n",
        "    i += 1\n",
        "    if i == 10:\n",
        "        break"
      ],
      "metadata": {
        "id": "Io5__erHmzAC"
      },
      "execution_count": null,
      "outputs": []
    },
    {
      "cell_type": "code",
      "source": [
        "# 가로 출력 참고.\n",
        "i = 1\n",
        "while i < 10:\n",
        "    j = 2\n",
        "    while j < 10:\n",
        "        print(j,\"x\", i, \"=\", i*j, end = '\\t')\n",
        "        j += 1\n",
        "    i += 1    \n",
        "    \n",
        "    print()"
      ],
      "metadata": {
        "colab": {
          "base_uri": "https://localhost:8080/"
        },
        "id": "sjLW_8aJnh5e",
        "outputId": "2beed5b1-92e2-4e5b-bad1-4fce557bc2af"
      },
      "execution_count": 47,
      "outputs": [
        {
          "output_type": "stream",
          "name": "stdout",
          "text": [
            "2 x 1 = 2\t3 x 1 = 3\t4 x 1 = 4\t5 x 1 = 5\t6 x 1 = 6\t7 x 1 = 7\t8 x 1 = 8\t9 x 1 = 9\t\n",
            "2 x 2 = 4\t3 x 2 = 6\t4 x 2 = 8\t5 x 2 = 10\t6 x 2 = 12\t7 x 2 = 14\t8 x 2 = 16\t9 x 2 = 18\t\n",
            "2 x 3 = 6\t3 x 3 = 9\t4 x 3 = 12\t5 x 3 = 15\t6 x 3 = 18\t7 x 3 = 21\t8 x 3 = 24\t9 x 3 = 27\t\n",
            "2 x 4 = 8\t3 x 4 = 12\t4 x 4 = 16\t5 x 4 = 20\t6 x 4 = 24\t7 x 4 = 28\t8 x 4 = 32\t9 x 4 = 36\t\n",
            "2 x 5 = 10\t3 x 5 = 15\t4 x 5 = 20\t5 x 5 = 25\t6 x 5 = 30\t7 x 5 = 35\t8 x 5 = 40\t9 x 5 = 45\t\n",
            "2 x 6 = 12\t3 x 6 = 18\t4 x 6 = 24\t5 x 6 = 30\t6 x 6 = 36\t7 x 6 = 42\t8 x 6 = 48\t9 x 6 = 54\t\n",
            "2 x 7 = 14\t3 x 7 = 21\t4 x 7 = 28\t5 x 7 = 35\t6 x 7 = 42\t7 x 7 = 49\t8 x 7 = 56\t9 x 7 = 63\t\n",
            "2 x 8 = 16\t3 x 8 = 24\t4 x 8 = 32\t5 x 8 = 40\t6 x 8 = 48\t7 x 8 = 56\t8 x 8 = 64\t9 x 8 = 72\t\n",
            "2 x 9 = 18\t3 x 9 = 27\t4 x 9 = 36\t5 x 9 = 45\t6 x 9 = 54\t7 x 9 = 63\t8 x 9 = 72\t9 x 9 = 81\t\n"
          ]
        }
      ]
    },
    {
      "cell_type": "markdown",
      "source": [
        "# 수업"
      ],
      "metadata": {
        "id": "AMRJcQk-x2UF"
      }
    },
    {
      "cell_type": "markdown",
      "source": [
        "## dic + for문"
      ],
      "metadata": {
        "id": "8IecScHRx43X"
      }
    },
    {
      "cell_type": "code",
      "source": [
        "sale = { '연필' : 500, '공책':1200, '신발':58000}\n"
      ],
      "metadata": {
        "id": "0vsYvD8DslH0"
      },
      "execution_count": 4,
      "outputs": []
    },
    {
      "cell_type": "code",
      "source": [
        "# ker and value\n",
        "for k, v in sale.items():\n",
        "    print(k, v)"
      ],
      "metadata": {
        "colab": {
          "base_uri": "https://localhost:8080/"
        },
        "id": "GH52f13_uvOu",
        "outputId": "ac5e1984-5d8f-4350-b95a-b41b1f6180ca"
      },
      "execution_count": 12,
      "outputs": [
        {
          "output_type": "stream",
          "name": "stdout",
          "text": [
            "연필 500\n",
            "공책 1200\n",
            "신발 58000\n"
          ]
        }
      ]
    },
    {
      "cell_type": "code",
      "source": [
        "# key\n",
        "for i in sale.keys():\n",
        "    print(i)"
      ],
      "metadata": {
        "colab": {
          "base_uri": "https://localhost:8080/"
        },
        "id": "lVDuXirAwrDv",
        "outputId": "44f38f77-da77-49a6-d554-c24a6632d587"
      },
      "execution_count": 8,
      "outputs": [
        {
          "output_type": "stream",
          "name": "stdout",
          "text": [
            "연필\n",
            "공책\n",
            "신발\n"
          ]
        }
      ]
    },
    {
      "cell_type": "code",
      "source": [
        "# value\n",
        "for i in sale.values():\n",
        "    print(i)"
      ],
      "metadata": {
        "colab": {
          "base_uri": "https://localhost:8080/"
        },
        "id": "A4fRB0aqwy1W",
        "outputId": "83aced08-21a3-49d8-9313-3168ccbc047e"
      },
      "execution_count": 6,
      "outputs": [
        {
          "output_type": "stream",
          "name": "stdout",
          "text": [
            "500\n",
            "1200\n",
            "58000\n"
          ]
        }
      ]
    },
    {
      "cell_type": "markdown",
      "source": [
        "### 실습\n",
        "- 봄맞이 세일을 한다.\n",
        "- 뒤에 있는 값만 20 % 깍아서 출력한다."
      ],
      "metadata": {
        "id": "8zJrnzNZxf7W"
      }
    },
    {
      "cell_type": "code",
      "source": [
        "sale1 = { '연필' : [500, 300], '공책': [1200, 2100], '신발':[58000, 2121000]}\n"
      ],
      "metadata": {
        "id": "lloBEifc3Gzf"
      },
      "execution_count": 1,
      "outputs": []
    },
    {
      "cell_type": "code",
      "source": [
        "print(\"sale1\")\n",
        "for _, v2 in sale1.values():\n",
        "    print(round(v2*0.8))\n",
        "\n",
        "print(\"sale\")\n",
        "for v1 in sale.values():\n",
        "    print(round(v1*0.8))"
      ],
      "metadata": {
        "colab": {
          "base_uri": "https://localhost:8080/"
        },
        "id": "LY9zx1DA3IGB",
        "outputId": "3a708183-190f-4226-fc30-9cafa5d18ece"
      },
      "execution_count": 11,
      "outputs": [
        {
          "output_type": "stream",
          "name": "stdout",
          "text": [
            "sale1\n",
            "240\n",
            "1680\n",
            "1696800\n",
            "sale\n",
            "400\n",
            "960\n",
            "46400\n"
          ]
        }
      ]
    },
    {
      "cell_type": "markdown",
      "source": [
        "### 사용가능한 함수 찾기 dir"
      ],
      "metadata": {
        "id": "VxANyInc3WIL"
      }
    },
    {
      "cell_type": "code",
      "source": [
        "dir(sale1)"
      ],
      "metadata": {
        "colab": {
          "base_uri": "https://localhost:8080/"
        },
        "id": "jZqV8FHa6EIi",
        "outputId": "e2abff49-5c42-4654-b827-9e68fb08cfac"
      },
      "execution_count": 22,
      "outputs": [
        {
          "output_type": "execute_result",
          "data": {
            "text/plain": [
              "['__class__',\n",
              " '__contains__',\n",
              " '__delattr__',\n",
              " '__delitem__',\n",
              " '__dir__',\n",
              " '__doc__',\n",
              " '__eq__',\n",
              " '__format__',\n",
              " '__ge__',\n",
              " '__getattribute__',\n",
              " '__getitem__',\n",
              " '__gt__',\n",
              " '__hash__',\n",
              " '__init__',\n",
              " '__init_subclass__',\n",
              " '__iter__',\n",
              " '__le__',\n",
              " '__len__',\n",
              " '__lt__',\n",
              " '__ne__',\n",
              " '__new__',\n",
              " '__reduce__',\n",
              " '__reduce_ex__',\n",
              " '__repr__',\n",
              " '__setattr__',\n",
              " '__setitem__',\n",
              " '__sizeof__',\n",
              " '__str__',\n",
              " '__subclasshook__',\n",
              " 'clear',\n",
              " 'copy',\n",
              " 'fromkeys',\n",
              " 'get',\n",
              " 'items',\n",
              " 'keys',\n",
              " 'pop',\n",
              " 'popitem',\n",
              " 'setdefault',\n",
              " 'update',\n",
              " 'values']"
            ]
          },
          "metadata": {},
          "execution_count": 22
        }
      ]
    },
    {
      "cell_type": "markdown",
      "source": [
        "### 실습 아래 의 확장자가 exe이거나 py인 파일만을 찾아 출력하다"
      ],
      "metadata": {
        "id": "1gy7FWE27LZ6"
      }
    },
    {
      "cell_type": "code",
      "source": [
        "files = {'manage.py', 'run.exe', 'urls.py', 'run.bat','abc.avi'}\n",
        "list1 = list()\n",
        "for i in files:\n",
        "    a,b = i.split('.')\n",
        "    if(b == 'py' or b=='exe'):\n",
        "        list1.append(a+'.'+b)\n",
        "for j in list1:\n",
        "    print(j)\n",
        "    "
      ],
      "metadata": {
        "colab": {
          "base_uri": "https://localhost:8080/"
        },
        "id": "q4xqVpX-8TeY",
        "outputId": "92214d6a-3d98-4958-ae79-e3ff06659b5c"
      },
      "execution_count": 25,
      "outputs": [
        {
          "output_type": "stream",
          "name": "stdout",
          "text": [
            "run.exe\n",
            "urls.py\n",
            "manage.py\n"
          ]
        }
      ]
    },
    {
      "cell_type": "code",
      "source": [
        "files = {'manage.py', 'run.exe', 'urls.py', 'run.bat','abc.avi'}\n",
        "list1 = list()\n",
        "for i in files:\n",
        "    a = i.split('.')\n",
        "    if(a[1] == 'py' or a[1]=='exe'):\n",
        "        print(a[0]+'.'+a[1]+' \\t파일을 찾앗습니다.')\n",
        "for j in list1:\n",
        "    print(j)"
      ],
      "metadata": {
        "colab": {
          "base_uri": "https://localhost:8080/"
        },
        "id": "phRYJxXDGCJ7",
        "outputId": "780921b1-822a-4261-a91b-2bdd17630c58"
      },
      "execution_count": 91,
      "outputs": [
        {
          "output_type": "stream",
          "name": "stdout",
          "text": [
            "urls.py \t파일을 찾앗습니다.\n",
            "manage.py \t파일을 찾앗습니다.\n",
            "run.exe \t파일을 찾앗습니다.\n"
          ]
        }
      ]
    },
    {
      "cell_type": "markdown",
      "source": [
        "## 실습 별찍기"
      ],
      "metadata": {
        "id": "GSEW2DGL89Jp"
      }
    },
    {
      "cell_type": "markdown",
      "source": [
        "### 별찍기 1\n",
        "```\n",
        "*\n",
        "**\n",
        "***\n",
        "****\n",
        "*****\n",
        "```"
      ],
      "metadata": {
        "id": "Srsnw6lzc0eJ"
      }
    },
    {
      "cell_type": "code",
      "source": [
        "\n",
        "while(True):\n",
        "    for j in range(1,6):\n",
        "        print('*'*j)\n",
        "    break"
      ],
      "metadata": {
        "colab": {
          "base_uri": "https://localhost:8080/"
        },
        "id": "SkCmwJrWRlKu",
        "outputId": "9f092f52-5820-423c-deb0-7bc17401f8e2"
      },
      "execution_count": 52,
      "outputs": [
        {
          "output_type": "stream",
          "name": "stdout",
          "text": [
            "*\n",
            "**\n",
            "***\n",
            "****\n",
            "*****\n"
          ]
        }
      ]
    },
    {
      "cell_type": "code",
      "source": [
        "x = []\n",
        "while(len(x)!=5):\n",
        "    for j in range(1,6):\n",
        "        x.append('*'*j)\n",
        "for i in x:\n",
        "    print(i)"
      ],
      "metadata": {
        "colab": {
          "base_uri": "https://localhost:8080/"
        },
        "id": "2Feqfd9kaMtr",
        "outputId": "ed7d2e17-bec5-4be0-d16b-76930fcb60d3"
      },
      "execution_count": 3,
      "outputs": [
        {
          "output_type": "stream",
          "name": "stdout",
          "text": [
            "*\n",
            "**\n",
            "***\n",
            "****\n",
            "*****\n"
          ]
        }
      ]
    },
    {
      "cell_type": "code",
      "source": [
        "for i in range(5):\n",
        "    for j in range(i+1):\n",
        "        print('*', end=\"\")\n",
        "    print()"
      ],
      "metadata": {
        "colab": {
          "base_uri": "https://localhost:8080/"
        },
        "id": "oTXerhzSf4qz",
        "outputId": "162085ee-65af-478d-a30f-b36a45840ffc"
      },
      "execution_count": 21,
      "outputs": [
        {
          "output_type": "stream",
          "name": "stdout",
          "text": [
            "*\n",
            "**\n",
            "***\n",
            "****\n",
            "*****\n"
          ]
        }
      ]
    },
    {
      "cell_type": "markdown",
      "source": [
        "### 별찍기 2\n",
        "```\n",
        "*\n",
        "***\n",
        "*****\n",
        "*******\n",
        "*********\n",
        "```"
      ],
      "metadata": {
        "id": "AjgIhtSpdBM9"
      }
    },
    {
      "cell_type": "code",
      "source": [
        "while(True):\n",
        "    for j in range(1,11):\n",
        "        if j%2!=0 :\n",
        "            print('*'*j)\n",
        "    break"
      ],
      "metadata": {
        "colab": {
          "base_uri": "https://localhost:8080/"
        },
        "id": "wfsf8SRJbCT1",
        "outputId": "204d2f76-34c2-4513-d76d-7e4050d8dfef"
      },
      "execution_count": 5,
      "outputs": [
        {
          "output_type": "stream",
          "name": "stdout",
          "text": [
            "*\n",
            "***\n",
            "*****\n",
            "*******\n",
            "*********\n"
          ]
        }
      ]
    },
    {
      "cell_type": "code",
      "source": [
        "x = []\n",
        "while(len(x)!=5):\n",
        "    for j in range(1,11):\n",
        "        if j%2!=0 :\n",
        "            x.append('*'*j)\n",
        "for i in x:\n",
        "    print(i)"
      ],
      "metadata": {
        "colab": {
          "base_uri": "https://localhost:8080/"
        },
        "id": "2K94hCn7bCNN",
        "outputId": "1d93f93d-0fb2-417e-c1b9-ab7176864404"
      },
      "execution_count": 6,
      "outputs": [
        {
          "output_type": "stream",
          "name": "stdout",
          "text": [
            "*\n",
            "***\n",
            "*****\n",
            "*******\n",
            "*********\n"
          ]
        }
      ]
    },
    {
      "cell_type": "code",
      "source": [
        "for i in range(5):\n",
        "    for j in range(i*2+1):\n",
        "        print('*', end=\"\")\n",
        "    print()"
      ],
      "metadata": {
        "colab": {
          "base_uri": "https://localhost:8080/"
        },
        "id": "EFS7v454gNax",
        "outputId": "148a8b21-d4d1-4f0a-9ee0-c7dd49f8cabe"
      },
      "execution_count": 25,
      "outputs": [
        {
          "output_type": "stream",
          "name": "stdout",
          "text": [
            "*\n",
            "***\n",
            "*****\n",
            "*******\n",
            "*********\n"
          ]
        }
      ]
    },
    {
      "cell_type": "markdown",
      "source": [
        "### 별찍기 3\n",
        "```\n",
        "    *\n",
        "   **\n",
        "  ***\n",
        " ****\n",
        "*****\n",
        "```"
      ],
      "metadata": {
        "id": "aMjoKC70dFvY"
      }
    },
    {
      "cell_type": "code",
      "source": [
        "while(True):\n",
        "    for i in range(1, 5+1):\n",
        "        k = 5 - i\n",
        "        j = \" \"*k\n",
        "        y = \"*\"*i\n",
        "        print(\"{}{}\".format(j,y))\n",
        "    break"
      ],
      "metadata": {
        "colab": {
          "base_uri": "https://localhost:8080/"
        },
        "id": "uzwg8MriSXyr",
        "outputId": "093f4dcf-b0f8-46b4-f01e-e989803ce9ba"
      },
      "execution_count": 7,
      "outputs": [
        {
          "output_type": "stream",
          "name": "stdout",
          "text": [
            "    *\n",
            "   **\n",
            "  ***\n",
            " ****\n",
            "*****\n"
          ]
        }
      ]
    },
    {
      "cell_type": "code",
      "source": [
        "x = []\n",
        "while(len(x)!=5):\n",
        "    for i in range(1, 5+1):\n",
        "        k = 5 - i\n",
        "        j = \" \"*k\n",
        "        y = \"*\"*i\n",
        "        x.append(j+y)\n",
        "for i in x:\n",
        "    print(i)"
      ],
      "metadata": {
        "colab": {
          "base_uri": "https://localhost:8080/"
        },
        "id": "7IWIcxqUbX4j",
        "outputId": "9226f427-172e-4c18-9d13-f0417ab4643a"
      },
      "execution_count": 8,
      "outputs": [
        {
          "output_type": "stream",
          "name": "stdout",
          "text": [
            "    *\n",
            "   **\n",
            "  ***\n",
            " ****\n",
            "*****\n"
          ]
        }
      ]
    },
    {
      "cell_type": "code",
      "source": [
        "for i in range(5):\n",
        "    for j in range(5-i,-1,-1):\n",
        "        print(\" \", end=\"\")\n",
        "    for j in range(i,-1,-1):\n",
        "        print('*', end=\"\")\n",
        "    print()"
      ],
      "metadata": {
        "colab": {
          "base_uri": "https://localhost:8080/"
        },
        "id": "-mjRjeMFgaOJ",
        "outputId": "eb885603-3e9d-4fab-ae30-280c080a20f7"
      },
      "execution_count": 30,
      "outputs": [
        {
          "output_type": "stream",
          "name": "stdout",
          "text": [
            "      *\n",
            "     **\n",
            "    ***\n",
            "   ****\n",
            "  *****\n"
          ]
        }
      ]
    },
    {
      "cell_type": "markdown",
      "source": [
        "### 별찍기 4\n",
        "```\n",
        "*****\n",
        "**** \n",
        "***  \n",
        "**   \n",
        "*    \n",
        "```"
      ],
      "metadata": {
        "id": "x3B2geNhdMoT"
      }
    },
    {
      "cell_type": "code",
      "source": [
        "while(True):\n",
        "    for i in range(5,0,-1):\n",
        "        k = 5 - i\n",
        "        j = \" \"*k\n",
        "        y = \"*\"*i\n",
        "        print(\"{}{}\".format(y,j))\n",
        "    break"
      ],
      "metadata": {
        "colab": {
          "base_uri": "https://localhost:8080/"
        },
        "id": "SfA1Am7rcVU1",
        "outputId": "e2e799e3-d4a2-4278-8301-05f5d53eff6b"
      },
      "execution_count": 10,
      "outputs": [
        {
          "output_type": "stream",
          "name": "stdout",
          "text": [
            "*****\n",
            "**** \n",
            "***  \n",
            "**   \n",
            "*    \n"
          ]
        }
      ]
    },
    {
      "cell_type": "code",
      "source": [
        "x = []\n",
        "while(len(x)!=5):\n",
        "    for i in range(5,0,-1):\n",
        "        k = 5 - i\n",
        "        j = \" \"*k\n",
        "        y = \"*\"*i\n",
        "        x.append(y+j)\n",
        "for i in x:\n",
        "    print(i)"
      ],
      "metadata": {
        "colab": {
          "base_uri": "https://localhost:8080/"
        },
        "id": "b8P4osLvcVSY",
        "outputId": "d5f040d2-b96a-4f80-bb39-0bc297632e51"
      },
      "execution_count": 12,
      "outputs": [
        {
          "output_type": "stream",
          "name": "stdout",
          "text": [
            "*****\n",
            "**** \n",
            "***  \n",
            "**   \n",
            "*    \n"
          ]
        }
      ]
    },
    {
      "cell_type": "code",
      "source": [
        "for i in range(5):\n",
        "    for j in range(4-i,-1,-1):\n",
        "        print('*', end=\"\")\n",
        "    for j in range(i,-1,-1):\n",
        "        print(\" \", end=\"\")\n",
        "    print()"
      ],
      "metadata": {
        "colab": {
          "base_uri": "https://localhost:8080/"
        },
        "id": "riI_-N6pg7LV",
        "outputId": "5a3ad548-479f-4ff8-8891-6de7bfe7c00c"
      },
      "execution_count": 36,
      "outputs": [
        {
          "output_type": "stream",
          "name": "stdout",
          "text": [
            "***** \n",
            "****  \n",
            "***   \n",
            "**    \n",
            "*     \n"
          ]
        }
      ]
    },
    {
      "cell_type": "markdown",
      "source": [
        "### 별찍기 5\n",
        "```\n",
        "*****\n",
        " ****\n",
        "  ***\n",
        "   **\n",
        "    *\n",
        "```"
      ],
      "metadata": {
        "id": "uJb_l0ubdUKV"
      }
    },
    {
      "cell_type": "code",
      "source": [
        "while(True):\n",
        "    for i in range(5,0,-1):\n",
        "        k = 5 - i\n",
        "        j = \" \"*k\n",
        "        y = \"*\"*i\n",
        "        print(\"{}{}\".format(j,y))\n",
        "    break"
      ],
      "metadata": {
        "colab": {
          "base_uri": "https://localhost:8080/"
        },
        "id": "vgeURt8uTXBu",
        "outputId": "6db185a2-6252-469b-c7bc-b0aa6a06b83a"
      },
      "execution_count": 40,
      "outputs": [
        {
          "output_type": "stream",
          "name": "stdout",
          "text": [
            "*****\n",
            " ****\n",
            "  ***\n",
            "   **\n",
            "    *\n"
          ]
        }
      ]
    },
    {
      "cell_type": "code",
      "source": [
        "x = []\n",
        "while(len(x)!=5):\n",
        "    for i in range(5,0,-1):\n",
        "        k = 5 - i\n",
        "        j = \" \"*k\n",
        "        y = \"*\"*i\n",
        "        x.append(j+y)\n",
        "for i in x:\n",
        "    print(i)"
      ],
      "metadata": {
        "colab": {
          "base_uri": "https://localhost:8080/"
        },
        "id": "1pFu_DjhbqbK",
        "outputId": "0689277a-b1d2-442f-fce7-7e4be211efae"
      },
      "execution_count": 9,
      "outputs": [
        {
          "output_type": "stream",
          "name": "stdout",
          "text": [
            "*****\n",
            " ****\n",
            "  ***\n",
            "   **\n",
            "    *\n"
          ]
        }
      ]
    },
    {
      "cell_type": "code",
      "source": [
        "for i in range(5):\n",
        "    for j in range(i):\n",
        "        print(' ', end=\"\")\n",
        "    for j in range(4-i,-1,-1):\n",
        "        print(\"*\", end=\"\")\n",
        "    print()"
      ],
      "metadata": {
        "colab": {
          "base_uri": "https://localhost:8080/"
        },
        "id": "8bNmdbGZhTLX",
        "outputId": "b7c545d5-000b-4266-d507-bcdf9e6c5490"
      },
      "execution_count": 39,
      "outputs": [
        {
          "output_type": "stream",
          "name": "stdout",
          "text": [
            "*****\n",
            " ****\n",
            "  ***\n",
            "   **\n",
            "    *\n"
          ]
        }
      ]
    },
    {
      "cell_type": "markdown",
      "source": [
        "### 별찍기 6\n",
        "```\n",
        "    *\n",
        "   ***\n",
        "  *****\n",
        " *******\n",
        "*********\n",
        "```\n"
      ],
      "metadata": {
        "id": "6_c45u1bdbtE"
      }
    },
    {
      "cell_type": "code",
      "source": [
        "while(True):\n",
        "    k=1\n",
        "    for i in range(4,-1,-1):\n",
        "        j = \" \"*i\n",
        "        y = \"*\"*k\n",
        "        k+=2\n",
        "                \n",
        "        print(\"{}{}\".format(j,y))\n",
        "    break"
      ],
      "metadata": {
        "colab": {
          "base_uri": "https://localhost:8080/"
        },
        "id": "80liHqtoVeTl",
        "outputId": "6d6c56a6-c7ad-4413-dccd-7242333c23c8"
      },
      "execution_count": 11,
      "outputs": [
        {
          "output_type": "stream",
          "name": "stdout",
          "text": [
            "    *\n",
            "   ***\n",
            "  *****\n",
            " *******\n",
            "*********\n"
          ]
        }
      ]
    },
    {
      "cell_type": "code",
      "source": [
        "x = []\n",
        "while(len(x)!=5):\n",
        "    k=1\n",
        "    for i in range(4,-1,-1):\n",
        "        j = \" \"*i\n",
        "        y = \"*\"*k\n",
        "        k+=2  \n",
        "        x.append(j+y)\n",
        "for i in x:\n",
        "    print(i)"
      ],
      "metadata": {
        "colab": {
          "base_uri": "https://localhost:8080/"
        },
        "id": "oepErRBTX8P1",
        "outputId": "e128e6cd-3938-4d1f-bc25-36b802617d1c"
      },
      "execution_count": 13,
      "outputs": [
        {
          "output_type": "stream",
          "name": "stdout",
          "text": [
            "    *\n",
            "   ***\n",
            "  *****\n",
            " *******\n",
            "*********\n"
          ]
        }
      ]
    },
    {
      "cell_type": "code",
      "source": [
        "for i in range(5):\n",
        "    for j in range(5-i,-1,-1):\n",
        "        print(\" \", end=\"\")\n",
        "    for j in range(i,-1,-1):\n",
        "        print('*', end=\"\")\n",
        "    for j in range(i):\n",
        "        print('*', end=\"\")\n",
        "    print()"
      ],
      "metadata": {
        "colab": {
          "base_uri": "https://localhost:8080/"
        },
        "id": "rBKb3zjle6MY",
        "outputId": "2c704544-3787-4e1a-822f-cd5dc793025d"
      },
      "execution_count": 54,
      "outputs": [
        {
          "output_type": "stream",
          "name": "stdout",
          "text": [
            "      *\n",
            "     ***\n",
            "    *****\n",
            "   *******\n",
            "  *********\n"
          ]
        }
      ]
    },
    {
      "cell_type": "code",
      "source": [
        ""
      ],
      "metadata": {
        "id": "sDpqRwZKkxKf"
      },
      "execution_count": null,
      "outputs": []
    },
    {
      "cell_type": "markdown",
      "source": [
        "## 실습 for문과 if문 활용\n",
        "\n",
        "- 숫자를 입력받아 이 수 사이의 숫자의 합을 구하기"
      ],
      "metadata": {
        "id": "fQVaGjqmtwuL"
      }
    },
    {
      "cell_type": "code",
      "source": [
        "num1 = int(input('숫자1 입력 : '))\n",
        "num2 = int(input('숫자2 입력 : '))\n",
        "result = 0\n",
        "if num1 < num2 :\n",
        "    for i in range(num1,num2+1):\n",
        "        result+=i\n",
        "    print(f'두수의 합은 : {result} 입니다')\n",
        "else :\n",
        "    for i in range(num2,num1+1):\n",
        "        result+=i\n",
        "    print(f'두수의 합은 : {result} 입니다')\n"
      ],
      "metadata": {
        "colab": {
          "base_uri": "https://localhost:8080/"
        },
        "id": "M0HSIBN3t48c",
        "outputId": "d6d04e06-fe4b-4a0f-f180-3050a2b3c570"
      },
      "execution_count": 59,
      "outputs": [
        {
          "output_type": "stream",
          "name": "stdout",
          "text": [
            "숫자1 입력 : 16\n",
            "숫자2 입력 : 15\n",
            "두수의 합은 : 31 입니다\n"
          ]
        }
      ]
    },
    {
      "cell_type": "code",
      "source": [
        "a, b = map(int,input().split(' '))\n",
        "\n",
        "print(a<b)"
      ],
      "metadata": {
        "colab": {
          "base_uri": "https://localhost:8080/"
        },
        "id": "545Wh_-Fun87",
        "outputId": "951a3963-13af-48ea-fd54-687dc3256649"
      },
      "execution_count": 65,
      "outputs": [
        {
          "output_type": "stream",
          "name": "stdout",
          "text": [
            "1 9\n",
            "True\n"
          ]
        }
      ]
    },
    {
      "cell_type": "markdown",
      "source": [
        "## 실습 리스트 이름 확인\n",
        "- input()으로 이름을 받고 이름 리스트에 해당하는 이름이 있는 경우 이름이 있음을  없음을 출력한다."
      ],
      "metadata": {
        "id": "zXnxa-fg0p3F"
      }
    },
    {
      "cell_type": "code",
      "source": [
        "names = ['짱구', \"짱아\", \"철이\", \"훈이\"]\n",
        "n1 = input()\n",
        "if n1 in names:\n",
        "    print(n1 + \"의 이름이 있습니다!\")\n",
        "else:\n",
        "    print(n1 + \"의 이름이 없습니다!\")"
      ],
      "metadata": {
        "colab": {
          "base_uri": "https://localhost:8080/"
        },
        "id": "XKHcs_x75P4F",
        "outputId": "dbb4920d-e7d0-443c-82a4-ff7ea77e5586"
      },
      "execution_count": 77,
      "outputs": [
        {
          "output_type": "stream",
          "name": "stdout",
          "text": [
            "짱구\n",
            "짱구의 이름이 있습니다!\n"
          ]
        }
      ]
    },
    {
      "cell_type": "markdown",
      "source": [
        "## 실습2 리스트 이름 확인\n",
        "- input()으로 이름을 받고 이름 리스트에 해당하는 이름이 있는 경우 이름이 있음을  없음을 출력한다.\n",
        "- for 문안에서 flag 를 받아 if-else를 실행하여 이름이 있는지 확인한다."
      ],
      "metadata": {
        "id": "u39QvUTC8u03"
      }
    },
    {
      "cell_type": "code",
      "source": [
        "names = ['짱구', \"짱아\", \"철이\", \"훈이\"]\n",
        "n1 = input(\"name : \")\n",
        "flag = False\n",
        "for name in names:\n",
        "    if n1 == name:\n",
        "        flag = True\n",
        "        break\n",
        "    else:\n",
        "        flag = False\n",
        "\n",
        "if flag :\n",
        "    print(\"이름이 있습니다\")\n",
        "else :\n",
        "    print(\"이름이 없습니다.\")"
      ],
      "metadata": {
        "colab": {
          "base_uri": "https://localhost:8080/"
        },
        "id": "YgerBgq769ms",
        "outputId": "399dcd56-cf81-450a-a47e-ccaa8d29bafd"
      },
      "execution_count": 83,
      "outputs": [
        {
          "output_type": "stream",
          "name": "stdout",
          "text": [
            "name : 짱구\n",
            "이름이 있습니다\n"
          ]
        }
      ]
    },
    {
      "cell_type": "code",
      "source": [
        ""
      ],
      "metadata": {
        "id": "Cm_FStiKEVTH"
      },
      "execution_count": null,
      "outputs": []
    }
  ]
}