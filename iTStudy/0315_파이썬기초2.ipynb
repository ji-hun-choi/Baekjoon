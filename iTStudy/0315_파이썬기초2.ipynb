{
  "nbformat": 4,
  "nbformat_minor": 0,
  "metadata": {
    "colab": {
      "name": "0315_파이썬기초2.ipynb",
      "provenance": [],
      "collapsed_sections": [],
      "toc_visible": true,
      "include_colab_link": true
    },
    "kernelspec": {
      "name": "python3",
      "display_name": "Python 3"
    },
    "language_info": {
      "name": "python"
    }
  },
  "cells": [
    {
      "cell_type": "markdown",
      "metadata": {
        "id": "view-in-github",
        "colab_type": "text"
      },
      "source": [
        "<a href=\"https://colab.research.google.com/github/ji-hun-choi/Baekjoon/blob/main/iTStudy/0315_%ED%8C%8C%EC%9D%B4%EC%8D%AC%EA%B8%B0%EC%B4%882.ipynb\" target=\"_parent\"><img src=\"https://colab.research.google.com/assets/colab-badge.svg\" alt=\"Open In Colab\"/></a>"
      ]
    },
    {
      "cell_type": "markdown",
      "source": [
        "# 0314 복습\n",
        "#### 1, 2. 다음 코드과 같은 결과를 출력해보세요.\n",
        "```\n",
        "안녕하세요.\n",
        "좋은\t\t아침입니다.\n",
        "````"
      ],
      "metadata": {
        "id": "lB5OzTrFYjKd"
      }
    },
    {
      "cell_type": "code",
      "source": [
        "print('안녕하세요.\\n좋은\\t\\t아침입니다.')"
      ],
      "metadata": {
        "id": "aCIjWhbBYoww",
        "colab": {
          "base_uri": "https://localhost:8080/"
        },
        "outputId": "5a472e14-b57a-4bd2-da28-d554594b7d3f"
      },
      "execution_count": 1,
      "outputs": [
        {
          "output_type": "stream",
          "name": "stdout",
          "text": [
            "안녕하세요.\n",
            "좋은\t\t아침입니다.\n"
          ]
        }
      ]
    },
    {
      "cell_type": "markdown",
      "source": [
        "Jjang-gu's Home"
      ],
      "metadata": {
        "id": "TiI_NdRa2EJH"
      }
    },
    {
      "cell_type": "code",
      "source": [
        "print('Jjang-gu\\'s Home')"
      ],
      "metadata": {
        "id": "Mb2K5AG3YHVw",
        "colab": {
          "base_uri": "https://localhost:8080/"
        },
        "outputId": "31e670cc-caaf-4819-9e27-220e31529328"
      },
      "execution_count": 2,
      "outputs": [
        {
          "output_type": "stream",
          "name": "stdout",
          "text": [
            "Jjang-gu's Home\n"
          ]
        }
      ]
    },
    {
      "cell_type": "markdown",
      "source": [
        "3. 아래의 코드 실행결과를 예상해보시고, 그대로 출력해보세요. \n",
        "\n",
        "~~~\n",
        "a = \"15\"\n",
        "b = \"20\"\n",
        "print(a + b)\n",
        "~~~\n"
      ],
      "metadata": {
        "id": "GA7BLFNYpJFl"
      }
    },
    {
      "cell_type": "code",
      "source": [
        "print(\"1520\")\n",
        "a = \"15\"\n",
        "b = \"20\"\n",
        "print(a + b)"
      ],
      "metadata": {
        "id": "MIE5wvaGmOET",
        "colab": {
          "base_uri": "https://localhost:8080/"
        },
        "outputId": "7d143178-78e0-4ba1-9e88-4d827ab94309"
      },
      "execution_count": 3,
      "outputs": [
        {
          "output_type": "stream",
          "name": "stdout",
          "text": [
            "1520\n",
            "1520\n"
          ]
        }
      ]
    },
    {
      "cell_type": "markdown",
      "source": [
        "4. 아래 코드의 실행 결과를 예상해보시고, 출력 후 결과를 확인해주세요.\n",
        "\n",
        "~~~\n",
        " print(\"Hello\" * 3)\n",
        " ~~~"
      ],
      "metadata": {
        "id": "MxGbYMh6qOg-"
      }
    },
    {
      "cell_type": "code",
      "source": [
        "print('HelloHelloHello')\n",
        "print(\"Hello\" * 3)"
      ],
      "metadata": {
        "id": "Zm_l_15HqZa-",
        "colab": {
          "base_uri": "https://localhost:8080/"
        },
        "outputId": "8f0764f6-4cc2-404c-97c0-094fc771cb8c"
      },
      "execution_count": 4,
      "outputs": [
        {
          "output_type": "stream",
          "name": "stdout",
          "text": [
            "HelloHelloHello\n",
            "HelloHelloHello\n"
          ]
        }
      ]
    },
    {
      "cell_type": "markdown",
      "source": [
        "### 5. 5/10의 결과를 화면에 출력하세요."
      ],
      "metadata": {
        "id": "blyX7nxdZprI"
      }
    },
    {
      "cell_type": "code",
      "source": [
        "5/10"
      ],
      "metadata": {
        "id": "Wb0ItaYVZsB_",
        "colab": {
          "base_uri": "https://localhost:8080/"
        },
        "outputId": "a30651f6-0196-4ad5-8fea-d19c3c3e9f58"
      },
      "execution_count": 5,
      "outputs": [
        {
          "output_type": "execute_result",
          "data": {
            "text/plain": [
              "0.5"
            ]
          },
          "metadata": {},
          "execution_count": 5
        }
      ]
    },
    {
      "cell_type": "markdown",
      "source": [
        "5-1. 변수 a에는 'Life is'라는 문자열, b에는 42라는 숫자를 바인딩하시고, 아래처럼 출력해주세요.\n",
        "```\n",
        "Life is 42! \n",
        "```"
      ],
      "metadata": {
        "id": "fYMkgxxdvE4o"
      }
    },
    {
      "cell_type": "code",
      "source": [
        "a = 'Life is'\n",
        "b = 42\n",
        "print(a+' '+str(b)+'!')"
      ],
      "metadata": {
        "colab": {
          "base_uri": "https://localhost:8080/"
        },
        "id": "RJmVfi1wV3Zm",
        "outputId": "d6a7fdb2-7a1e-4f80-ee13-875a7db1f806"
      },
      "execution_count": 6,
      "outputs": [
        {
          "output_type": "stream",
          "name": "stdout",
          "text": [
            "Life is 42!\n"
          ]
        }
      ]
    },
    {
      "cell_type": "markdown",
      "source": [
        "5-2. 위에서 만든 변수 a, b의 타입을 확인하는 함수를 이용하여 각각의 타입을 확인해주세요."
      ],
      "metadata": {
        "id": "E6HMLAmRNOXc"
      }
    },
    {
      "cell_type": "code",
      "source": [
        "print(type(a))\n",
        "print(type(b))"
      ],
      "metadata": {
        "id": "liJPqWw0MAYF",
        "colab": {
          "base_uri": "https://localhost:8080/"
        },
        "outputId": "5dc19a98-28a4-4838-de49-a13424aaa2b5"
      },
      "execution_count": 7,
      "outputs": [
        {
          "output_type": "stream",
          "name": "stdout",
          "text": [
            "<class 'str'>\n",
            "<class 'int'>\n"
          ]
        }
      ]
    },
    {
      "cell_type": "markdown",
      "source": [
        "5-3. 변수 b를 str타입으로 변경하시고, 다시 한 번 b의 타입을 확인해주세요."
      ],
      "metadata": {
        "id": "RQYJz8dLNaJ4"
      }
    },
    {
      "cell_type": "code",
      "source": [
        "b =str(b)"
      ],
      "metadata": {
        "id": "DFta-YVA1gRR"
      },
      "execution_count": 8,
      "outputs": []
    },
    {
      "cell_type": "code",
      "source": [
        "type(b)"
      ],
      "metadata": {
        "id": "YwoXJH6kNiK5",
        "colab": {
          "base_uri": "https://localhost:8080/"
        },
        "outputId": "d56dddf0-c41a-4f58-e653-9d7917626c37"
      },
      "execution_count": 9,
      "outputs": [
        {
          "output_type": "execute_result",
          "data": {
            "text/plain": [
              "str"
            ]
          },
          "metadata": {},
          "execution_count": 9
        }
      ]
    },
    {
      "cell_type": "markdown",
      "source": [
        "6. month라는 변수에 문자열 \"2022.03\"를 바인딩하신 후 실수(float)타입으로 변환해보세요."
      ],
      "metadata": {
        "id": "Py63kOJoNwIE"
      }
    },
    {
      "cell_type": "code",
      "source": [
        "month = \"2022.03\"\n",
        "month = float(month)\n",
        "type(month)"
      ],
      "metadata": {
        "id": "mBDOHV9BN6Bx",
        "colab": {
          "base_uri": "https://localhost:8080/"
        },
        "outputId": "cc7f837f-3a07-410e-c329-3afc5d9416ab"
      },
      "execution_count": 10,
      "outputs": [
        {
          "output_type": "execute_result",
          "data": {
            "text/plain": [
              "float"
            ]
          },
          "metadata": {},
          "execution_count": 10
        }
      ]
    },
    {
      "cell_type": "markdown",
      "source": [
        "7. 동네 슈퍼에서 한 개에 1200원짜리 하리보젤리를 10개 사면 20%씩 할인해주고 있습니다. haribo라는 변수에 젤리 1개 가격을 넣어 10개를 샀을 때 지불해야 할 최종 금액을 계산해주세요."
      ],
      "metadata": {
        "id": "SrIrfGd6jO-q"
      }
    },
    {
      "cell_type": "code",
      "source": [
        "haribo = 1200\n",
        "print(int(haribo * 10 * 0.8))"
      ],
      "metadata": {
        "id": "tOA01fTqjuHU",
        "colab": {
          "base_uri": "https://localhost:8080/"
        },
        "outputId": "4efd4d78-3f9f-4f6f-9657-1cc36d871b62"
      },
      "execution_count": 11,
      "outputs": [
        {
          "output_type": "stream",
          "name": "stdout",
          "text": [
            "9600\n"
          ]
        }
      ]
    },
    {
      "cell_type": "markdown",
      "source": [
        "8. word라는 변수에 'Happy Birthday!'라는 문장을 넣으시고 H, p, day, !를 각각 출력해보세요."
      ],
      "metadata": {
        "id": "eQ8YLXU4kvMU"
      }
    },
    {
      "cell_type": "code",
      "source": [
        "word = \"Happy Birthday!\""
      ],
      "metadata": {
        "id": "V8oJsLSIlXdb"
      },
      "execution_count": 12,
      "outputs": []
    },
    {
      "cell_type": "code",
      "source": [
        "word[0]"
      ],
      "metadata": {
        "id": "ubv5cp80lXQG",
        "colab": {
          "base_uri": "https://localhost:8080/",
          "height": 35
        },
        "outputId": "1e9f8f49-530b-4521-965a-49ecfb839e40"
      },
      "execution_count": 13,
      "outputs": [
        {
          "output_type": "execute_result",
          "data": {
            "text/plain": [
              "'H'"
            ],
            "application/vnd.google.colaboratory.intrinsic+json": {
              "type": "string"
            }
          },
          "metadata": {},
          "execution_count": 13
        }
      ]
    },
    {
      "cell_type": "code",
      "source": [
        "word[2]"
      ],
      "metadata": {
        "id": "-M11QzzplXBU",
        "colab": {
          "base_uri": "https://localhost:8080/",
          "height": 35
        },
        "outputId": "fdda276f-8397-463b-830f-e5fbd159f4e9"
      },
      "execution_count": 14,
      "outputs": [
        {
          "output_type": "execute_result",
          "data": {
            "text/plain": [
              "'p'"
            ],
            "application/vnd.google.colaboratory.intrinsic+json": {
              "type": "string"
            }
          },
          "metadata": {},
          "execution_count": 14
        }
      ]
    },
    {
      "cell_type": "code",
      "source": [
        "word[11:14] #word[-4:-1]역순"
      ],
      "metadata": {
        "id": "HBgYwkBVlWva",
        "colab": {
          "base_uri": "https://localhost:8080/",
          "height": 35
        },
        "outputId": "0c84d5fe-3e5e-460b-c895-463a73346808"
      },
      "execution_count": 15,
      "outputs": [
        {
          "output_type": "execute_result",
          "data": {
            "text/plain": [
              "'day'"
            ],
            "application/vnd.google.colaboratory.intrinsic+json": {
              "type": "string"
            }
          },
          "metadata": {},
          "execution_count": 15
        }
      ]
    },
    {
      "cell_type": "code",
      "source": [
        "word[-1]"
      ],
      "metadata": {
        "id": "-HyaI-elW4iY",
        "colab": {
          "base_uri": "https://localhost:8080/",
          "height": 35
        },
        "outputId": "528903f9-3cdc-455f-8b27-e9c00e32af5a"
      },
      "execution_count": 16,
      "outputs": [
        {
          "output_type": "execute_result",
          "data": {
            "text/plain": [
              "'!'"
            ],
            "application/vnd.google.colaboratory.intrinsic+json": {
              "type": "string"
            }
          },
          "metadata": {},
          "execution_count": 16
        }
      ]
    },
    {
      "cell_type": "markdown",
      "source": [
        "9. 위의 word 변수에 담긴 문자열을 거꾸로 뒤집은 순서로 출력하세요."
      ],
      "metadata": {
        "id": "O0-7bgz0lcKl"
      }
    },
    {
      "cell_type": "code",
      "source": [
        "word = word[::-1]"
      ],
      "metadata": {
        "id": "OhTrPNY8luGN"
      },
      "execution_count": 17,
      "outputs": []
    },
    {
      "cell_type": "code",
      "source": [
        "word"
      ],
      "metadata": {
        "id": "6wCeqWE34nWW",
        "colab": {
          "base_uri": "https://localhost:8080/",
          "height": 35
        },
        "outputId": "f04f7a0b-d499-4ae3-b362-a12c1d3a8420"
      },
      "execution_count": 18,
      "outputs": [
        {
          "output_type": "execute_result",
          "data": {
            "text/plain": [
              "'!yadhtriB yppaH'"
            ],
            "application/vnd.google.colaboratory.intrinsic+json": {
              "type": "string"
            }
          },
          "metadata": {},
          "execution_count": 18
        }
      ]
    },
    {
      "cell_type": "markdown",
      "source": [
        "- 리스트\n",
        "\n",
        "1. 생각나는 뮤지션 5명(팀)을 myPlaylist라는 변수에 리스트로 저장후 출력해보세요."
      ],
      "metadata": {
        "id": "7I6k2iFoYHbg"
      }
    },
    {
      "cell_type": "code",
      "source": [
        "myPlaylist= ['아무도', '모르는', '뮤지션', '팀5명','생각하자']"
      ],
      "metadata": {
        "id": "WWHCB78taWxO"
      },
      "execution_count": 19,
      "outputs": []
    },
    {
      "cell_type": "markdown",
      "source": [
        "2. myPlaylist에 '블랙핑크'를 추가한 후 출력해주세요."
      ],
      "metadata": {
        "id": "DeZtifn2Y6Df"
      }
    },
    {
      "cell_type": "code",
      "source": [
        "myPlaylist.append('블랙핑크')"
      ],
      "metadata": {
        "id": "RoBgsEAtY3tV"
      },
      "execution_count": 20,
      "outputs": []
    },
    {
      "cell_type": "markdown",
      "source": [
        "3. myPlaylist의 2번과 3번 사이에 '더콰이엇'을 추가한 후 출력해주세요. (insert 메소드 사용)"
      ],
      "metadata": {
        "id": "NuQqmbO1ZO-j"
      }
    },
    {
      "cell_type": "code",
      "source": [
        "myPlaylist.insert(3,'더콰이엇')"
      ],
      "metadata": {
        "id": "0fCukjJoZNyB"
      },
      "execution_count": 21,
      "outputs": []
    },
    {
      "cell_type": "markdown",
      "source": [
        "4. myPlaylist에 아래의 리스트를 합한 Favorites 라는 리스트를 만들어 출력하세요.\n",
        "\n",
        "~~~\n",
        "myPlaylist1 = ['세븐틴', 'EXO', 'NCT']\n",
        "~~~"
      ],
      "metadata": {
        "id": "sOHgcXMM5MaM"
      }
    },
    {
      "cell_type": "code",
      "source": [
        "myPlaylist1 = ['세븐틴', 'EXO', 'NCT']"
      ],
      "metadata": {
        "id": "lNC93x7uAHQo"
      },
      "execution_count": 22,
      "outputs": []
    },
    {
      "cell_type": "code",
      "source": [
        "myPlaylist.extend(myPlaylist1)\n",
        "print(myPlaylist)"
      ],
      "metadata": {
        "colab": {
          "base_uri": "https://localhost:8080/"
        },
        "id": "4J-b988-AKqM",
        "outputId": "6eb97f8a-5541-48a0-de28-219d4d819ff0"
      },
      "execution_count": 23,
      "outputs": [
        {
          "output_type": "stream",
          "name": "stdout",
          "text": [
            "['아무도', '모르는', '뮤지션', '더콰이엇', '팀5명', '생각하자', '블랙핑크', '세븐틴', 'EXO', 'NCT']\n"
          ]
        }
      ]
    },
    {
      "cell_type": "markdown",
      "source": [
        "5. 위의 리스트에서 리스트 슬라이싱을 활용하여 홀수만 출력해보세요"
      ],
      "metadata": {
        "id": "GWbDe2ou5MaP"
      }
    },
    {
      "cell_type": "code",
      "source": [
        "myPlaylist[::2]"
      ],
      "metadata": {
        "id": "Bst27nTj5MaP",
        "colab": {
          "base_uri": "https://localhost:8080/"
        },
        "outputId": "4ff7ab28-5e1f-42f6-a280-16bae658db08"
      },
      "execution_count": 24,
      "outputs": [
        {
          "output_type": "execute_result",
          "data": {
            "text/plain": [
              "['아무도', '뮤지션', '팀5명', '블랙핑크', 'EXO']"
            ]
          },
          "metadata": {},
          "execution_count": 24
        }
      ]
    },
    {
      "cell_type": "markdown",
      "source": [
        "6. 슬라이싱을 사용해서 리스트 myPlaylist의 숫자를 역순으로 출력해보세요."
      ],
      "metadata": {
        "id": "X2xAFxia5MaP"
      }
    },
    {
      "cell_type": "code",
      "source": [
        "myPlaylist=myPlaylist[::-1]"
      ],
      "metadata": {
        "id": "l0sn5AUy5MaP"
      },
      "execution_count": 25,
      "outputs": []
    },
    {
      "cell_type": "code",
      "source": [
        "myPlaylist.reverse()"
      ],
      "metadata": {
        "id": "qoQIx01A5MaM"
      },
      "execution_count": 26,
      "outputs": []
    },
    {
      "cell_type": "code",
      "source": [
        ""
      ],
      "metadata": {
        "id": "GiuD51zhK6QN"
      },
      "execution_count": 26,
      "outputs": []
    },
    {
      "cell_type": "code",
      "source": [
        ""
      ],
      "metadata": {
        "id": "8COYAmxdLcct"
      },
      "execution_count": 26,
      "outputs": []
    },
    {
      "cell_type": "markdown",
      "source": [
        "# 수업"
      ],
      "metadata": {
        "id": "zN2U5YjKLfWF"
      }
    },
    {
      "cell_type": "markdown",
      "source": [
        "## 매핑형 타입\n",
        "- tuple, list 시퀀스형 타입이었다. 순서가 있고 그 순서에 정해진 인덱스를 바탕으로 자료를 꺼내오거나 삽입하거나 삭제하거나 수정하는 방식으로 동작\n",
        "- 매핑형 타입은 key값으로 불러오는 dict가 대표적\n",
        "- 해시 자료구조 라고 표현하기도 한다.\n"
      ],
      "metadata": {
        "id": "OZ_3ToYYNaaw"
      }
    },
    {
      "cell_type": "markdown",
      "source": [
        "\n",
        "### 딕셔너리\n",
        "- 형태를 다음과 같다.\n",
        "'''{key:vlaue,key:vlaue,key:vlaue .....}'''\n",
        "- key를 직접 정의할 수 있다.\n",
        "    - 튜플이나 리스트와의 차이점(인덱스가 자동 생성x)\n",
        "    - 반드시 숫자가 아니어도 괜찮음"
      ],
      "metadata": {
        "id": "DssALQRaPWly"
      }
    },
    {
      "cell_type": "code",
      "source": [
        "# 빈 딕셔너리 만드는 법\n",
        "dict1 = {}\n",
        "type(dict1)"
      ],
      "metadata": {
        "colab": {
          "base_uri": "https://localhost:8080/"
        },
        "id": "77OHLgXDOKwF",
        "outputId": "7de01962-107b-4e2a-844a-df0f9aca0b0f"
      },
      "execution_count": 27,
      "outputs": [
        {
          "output_type": "execute_result",
          "data": {
            "text/plain": [
              "dict"
            ]
          },
          "metadata": {},
          "execution_count": 27
        }
      ]
    },
    {
      "cell_type": "code",
      "source": [
        "dict1"
      ],
      "metadata": {
        "colab": {
          "base_uri": "https://localhost:8080/"
        },
        "id": "NyUk6A3BOSBm",
        "outputId": "649d8e55-85cf-4e51-a65f-86fd65a30da8"
      },
      "execution_count": 28,
      "outputs": [
        {
          "output_type": "execute_result",
          "data": {
            "text/plain": [
              "{}"
            ]
          },
          "metadata": {},
          "execution_count": 28
        }
      ]
    },
    {
      "cell_type": "code",
      "source": [
        "dict2 = {'key':'value'}\n",
        "dict2"
      ],
      "metadata": {
        "colab": {
          "base_uri": "https://localhost:8080/"
        },
        "id": "yYe7arBcOV-9",
        "outputId": "9a9488b2-956f-4059-a08e-d253a6f23743"
      },
      "execution_count": 29,
      "outputs": [
        {
          "output_type": "execute_result",
          "data": {
            "text/plain": [
              "{'key': 'value'}"
            ]
          },
          "metadata": {},
          "execution_count": 29
        }
      ]
    },
    {
      "cell_type": "code",
      "source": [
        "# 키가 존재하면 값을 업데이트\n",
        "dict2 = {'key':'value2'}\n",
        "dict2"
      ],
      "metadata": {
        "colab": {
          "base_uri": "https://localhost:8080/"
        },
        "id": "tMzm_nBxObFe",
        "outputId": "cad533bb-2dee-45b9-fdc5-fbb633ca45eb"
      },
      "execution_count": 30,
      "outputs": [
        {
          "output_type": "execute_result",
          "data": {
            "text/plain": [
              "{'key': 'value2'}"
            ]
          },
          "metadata": {},
          "execution_count": 30
        }
      ]
    },
    {
      "cell_type": "code",
      "source": [
        "# 키가 존재하지 않으면 자동으로 값을 추가한다.\n",
        "dict2['key1']='value3'\n",
        "dict2"
      ],
      "metadata": {
        "colab": {
          "base_uri": "https://localhost:8080/"
        },
        "id": "jYOBgVmoOpla",
        "outputId": "1cffd0f2-e824-45b4-eb72-5828609766d2"
      },
      "execution_count": 31,
      "outputs": [
        {
          "output_type": "execute_result",
          "data": {
            "text/plain": [
              "{'key': 'value2', 'key1': 'value3'}"
            ]
          },
          "metadata": {},
          "execution_count": 31
        }
      ]
    },
    {
      "cell_type": "code",
      "source": [
        "del dict2['key1']"
      ],
      "metadata": {
        "id": "IIdRb9UDO21w"
      },
      "execution_count": 32,
      "outputs": []
    },
    {
      "cell_type": "code",
      "source": [
        "dict2"
      ],
      "metadata": {
        "colab": {
          "base_uri": "https://localhost:8080/"
        },
        "id": "4aLyTIL0O-r4",
        "outputId": "5a98f004-4efd-4fbe-a4ef-65e94c11ffe8"
      },
      "execution_count": 33,
      "outputs": [
        {
          "output_type": "execute_result",
          "data": {
            "text/plain": [
              "{'key': 'value2'}"
            ]
          },
          "metadata": {},
          "execution_count": 33
        }
      ]
    },
    {
      "cell_type": "code",
      "source": [
        "# 에러 안나게 하는법\n",
        "dict2.get('key3')"
      ],
      "metadata": {
        "id": "IEnNh9eXO_t9"
      },
      "execution_count": 34,
      "outputs": []
    },
    {
      "cell_type": "code",
      "source": [
        "dict2.get('key3','없을 때 값')"
      ],
      "metadata": {
        "colab": {
          "base_uri": "https://localhost:8080/",
          "height": 0
        },
        "id": "U-ELTaTJPfBA",
        "outputId": "9ecf4f50-7278-4f23-8a7f-486120844599"
      },
      "execution_count": 35,
      "outputs": [
        {
          "output_type": "execute_result",
          "data": {
            "text/plain": [
              "'없을 때 값'"
            ],
            "application/vnd.google.colaboratory.intrinsic+json": {
              "type": "string"
            }
          },
          "metadata": {},
          "execution_count": 35
        }
      ]
    },
    {
      "cell_type": "code",
      "source": [
        "dict2['key2'] = 'R3'\n",
        "dict2['key3'] = 'Ducati'\n",
        "dict2['key4'] = 'BMW'"
      ],
      "metadata": {
        "id": "NKz0lYgfPnxm"
      },
      "execution_count": 36,
      "outputs": []
    },
    {
      "cell_type": "code",
      "source": [
        "# 키값 확인\n",
        "dict2.keys()"
      ],
      "metadata": {
        "colab": {
          "base_uri": "https://localhost:8080/"
        },
        "id": "Ne0vzKOvQLLk",
        "outputId": "256471f5-3c64-46cd-8085-84197f28a40c"
      },
      "execution_count": 37,
      "outputs": [
        {
          "output_type": "execute_result",
          "data": {
            "text/plain": [
              "dict_keys(['key', 'key2', 'key3', 'key4'])"
            ]
          },
          "metadata": {},
          "execution_count": 37
        }
      ]
    },
    {
      "cell_type": "code",
      "source": [
        "# values값 확인\n",
        "dict2.values()"
      ],
      "metadata": {
        "colab": {
          "base_uri": "https://localhost:8080/"
        },
        "id": "Njb3h17IQNeV",
        "outputId": "d5e0e92a-2c8c-4fdd-9a39-575d652d87b7"
      },
      "execution_count": 38,
      "outputs": [
        {
          "output_type": "execute_result",
          "data": {
            "text/plain": [
              "dict_values(['value2', 'R3', 'Ducati', 'BMW'])"
            ]
          },
          "metadata": {},
          "execution_count": 38
        }
      ]
    },
    {
      "cell_type": "code",
      "source": [
        "# 키-값 을 한쌍으로 튜플로 확인하는 리스트를 얻는 경우\n",
        "# 튜플로 출력이 되는 이유 = 키:값 들이 1:1로 묶여 있는 것은 고정이다.\n",
        "dict2.items()"
      ],
      "metadata": {
        "colab": {
          "base_uri": "https://localhost:8080/"
        },
        "id": "3b4fQzTJQacu",
        "outputId": "258a7a93-e8ae-4f86-845b-fcadb89d05f1"
      },
      "execution_count": 39,
      "outputs": [
        {
          "output_type": "execute_result",
          "data": {
            "text/plain": [
              "dict_items([('key', 'value2'), ('key2', 'R3'), ('key3', 'Ducati'), ('key4', 'BMW')])"
            ]
          },
          "metadata": {},
          "execution_count": 39
        }
      ]
    },
    {
      "cell_type": "code",
      "source": [
        "myPlaylist= myPlaylist[:5]\n",
        "myPlaylist"
      ],
      "metadata": {
        "colab": {
          "base_uri": "https://localhost:8080/"
        },
        "id": "nEwVF7O6QzhH",
        "outputId": "95b57b2e-3f46-467a-f120-dc2854e3895b"
      },
      "execution_count": 40,
      "outputs": [
        {
          "output_type": "execute_result",
          "data": {
            "text/plain": [
              "['아무도', '모르는', '뮤지션', '더콰이엇', '팀5명']"
            ]
          },
          "metadata": {},
          "execution_count": 40
        }
      ]
    },
    {
      "cell_type": "code",
      "source": [
        "myPlaylist = {'rock':'오왠', 'balad':['아이유','폴킴'],'hiphop':['에픽하이','매드클라운']}\n",
        "myPlaylist"
      ],
      "metadata": {
        "colab": {
          "base_uri": "https://localhost:8080/"
        },
        "id": "uwsd7UWLQ8Gv",
        "outputId": "3d11ddc8-604e-4e17-8373-6cda85a23542"
      },
      "execution_count": 41,
      "outputs": [
        {
          "output_type": "execute_result",
          "data": {
            "text/plain": [
              "{'balad': ['아이유', '폴킴'], 'hiphop': ['에픽하이', '매드클라운'], 'rock': '오왠'}"
            ]
          },
          "metadata": {},
          "execution_count": 41
        }
      ]
    },
    {
      "cell_type": "code",
      "source": [
        "del myPlaylist['rock']\n",
        "myPlaylist"
      ],
      "metadata": {
        "colab": {
          "base_uri": "https://localhost:8080/"
        },
        "id": "pRCTlbYfRP1u",
        "outputId": "201cf0b7-0d35-42b0-9c98-c18782945b9e"
      },
      "execution_count": 42,
      "outputs": [
        {
          "output_type": "execute_result",
          "data": {
            "text/plain": [
              "{'balad': ['아이유', '폴킴'], 'hiphop': ['에픽하이', '매드클라운']}"
            ]
          },
          "metadata": {},
          "execution_count": 42
        }
      ]
    },
    {
      "cell_type": "markdown",
      "source": [
        "### Set (집합)\n",
        "- 순서가 없는 자료형이다.\n",
        "- 중복이 안된다는 특징이 있다."
      ],
      "metadata": {
        "id": "w7XNBowtWKsn"
      }
    },
    {
      "cell_type": "code",
      "source": [
        "set1 = {1,3,5,6,7,8,9,12}\n",
        "set2 = {2,4,6,10,14,16,19}\n",
        "set3 = {'a','b','c','d','e','f'}\n",
        "\n",
        "set1, set2, set3"
      ],
      "metadata": {
        "colab": {
          "base_uri": "https://localhost:8080/"
        },
        "id": "vkXdvQZQWb8O",
        "outputId": "7b8d93b9-f8ac-47ef-91f2-e10e602311e5"
      },
      "execution_count": 43,
      "outputs": [
        {
          "output_type": "execute_result",
          "data": {
            "text/plain": [
              "({1, 3, 5, 6, 7, 8, 9, 12},\n",
              " {2, 4, 6, 10, 14, 16, 19},\n",
              " {'a', 'b', 'c', 'd', 'e', 'f'})"
            ]
          },
          "metadata": {},
          "execution_count": 43
        }
      ]
    },
    {
      "cell_type": "code",
      "source": [
        "# 교집합 출력\n",
        "set1 & set2\n",
        "set1.intersection(set2)"
      ],
      "metadata": {
        "colab": {
          "base_uri": "https://localhost:8080/"
        },
        "id": "ussbI7kbWh1g",
        "outputId": "b008025f-b3dd-4e48-cdfa-be06847f5cd1"
      },
      "execution_count": 44,
      "outputs": [
        {
          "output_type": "execute_result",
          "data": {
            "text/plain": [
              "{6}"
            ]
          },
          "metadata": {},
          "execution_count": 44
        }
      ]
    },
    {
      "cell_type": "code",
      "source": [
        "# 합집합 출력\n",
        "set1 | set2\n",
        "set1.union(set2)"
      ],
      "metadata": {
        "colab": {
          "base_uri": "https://localhost:8080/"
        },
        "id": "qPdU3hJRW_Co",
        "outputId": "f5d43b3a-5dcc-441e-ab0b-02a943f9578f"
      },
      "execution_count": 45,
      "outputs": [
        {
          "output_type": "execute_result",
          "data": {
            "text/plain": [
              "{1, 2, 3, 4, 5, 6, 7, 8, 9, 10, 12, 14, 16, 19}"
            ]
          },
          "metadata": {},
          "execution_count": 45
        }
      ]
    },
    {
      "cell_type": "code",
      "source": [
        "# 차집합 출력 기준set - 대조set\n",
        "set1 - set2\n",
        "set1.difference(set2)"
      ],
      "metadata": {
        "colab": {
          "base_uri": "https://localhost:8080/"
        },
        "id": "xF4heB_SXK7L",
        "outputId": "8cf17001-7612-4e64-ba91-6102e24c80f1"
      },
      "execution_count": 46,
      "outputs": [
        {
          "output_type": "execute_result",
          "data": {
            "text/plain": [
              "{1, 3, 5, 7, 8, 9, 12}"
            ]
          },
          "metadata": {},
          "execution_count": 46
        }
      ]
    },
    {
      "cell_type": "code",
      "source": [
        "#Quize\n",
        "from random import *\n",
        "number = list(range(1,46))\n",
        "shuffle(number)\n",
        "start_num = randint(0,38)\n",
        "lotto = number[start_num:start_num+7]\n",
        "lotto.sort()\n",
        "print(lotto[:5],'3등입니다')\n",
        "print(lotto[:6],'2등입니다')\n",
        "print(lotto,'1등입니다')"
      ],
      "metadata": {
        "colab": {
          "base_uri": "https://localhost:8080/"
        },
        "id": "ghdIhBKfXgKo",
        "outputId": "e185b3cb-7033-442c-cc7d-d3cf584a7b50"
      },
      "execution_count": 47,
      "outputs": [
        {
          "output_type": "stream",
          "name": "stdout",
          "text": [
            "[4, 6, 16, 17, 18] 3등입니다\n",
            "[4, 6, 16, 17, 18, 30] 2등입니다\n",
            "[4, 6, 16, 17, 18, 30, 38] 1등입니다\n"
          ]
        }
      ]
    },
    {
      "cell_type": "markdown",
      "source": [
        "## 복사\n",
        "- 얕은 복사, 깊은 복사가 있다.\n",
        "    - 주소복사, 값 복사라고 표현하기도 한다."
      ],
      "metadata": {
        "id": "kxEcpSXQ-E3m"
      }
    },
    {
      "cell_type": "code",
      "source": [
        "arr = [10, 20, 30]\n",
        "copy1 = arr"
      ],
      "metadata": {
        "id": "ihX9l9rM__Un"
      },
      "execution_count": 48,
      "outputs": []
    },
    {
      "cell_type": "code",
      "source": [
        "copy1"
      ],
      "metadata": {
        "colab": {
          "base_uri": "https://localhost:8080/"
        },
        "id": "nGXVbqw2AJXZ",
        "outputId": "45101471-9e8d-43b2-ff19-6c686f6712f7"
      },
      "execution_count": 49,
      "outputs": [
        {
          "output_type": "execute_result",
          "data": {
            "text/plain": [
              "[10, 20, 30]"
            ]
          },
          "metadata": {},
          "execution_count": 49
        }
      ]
    },
    {
      "cell_type": "code",
      "source": [
        "arr"
      ],
      "metadata": {
        "colab": {
          "base_uri": "https://localhost:8080/"
        },
        "id": "g-cVrgkhAK-X",
        "outputId": "c2e6fe1f-d232-446d-d969-5b116b84cf5b"
      },
      "execution_count": 50,
      "outputs": [
        {
          "output_type": "execute_result",
          "data": {
            "text/plain": [
              "[10, 20, 30]"
            ]
          },
          "metadata": {},
          "execution_count": 50
        }
      ]
    },
    {
      "cell_type": "code",
      "source": [
        "hex(id(copy1)), hex(id(arr))"
      ],
      "metadata": {
        "colab": {
          "base_uri": "https://localhost:8080/"
        },
        "id": "Rc0y4m-IALRH",
        "outputId": "086d989d-d4af-4e94-b703-291805b9bf80"
      },
      "execution_count": 51,
      "outputs": [
        {
          "output_type": "execute_result",
          "data": {
            "text/plain": [
              "('0x7f783e0e1320', '0x7f783e0e1320')"
            ]
          },
          "metadata": {},
          "execution_count": 51
        }
      ]
    },
    {
      "cell_type": "markdown",
      "source": [
        "### 얕은복사 / 주소복사\n",
        " - 변수 이름은 다르지만 결국 동일한 주로를 나타내는경우\n",
        " - 결국 두 변수는 같은 변수나 다름없다.\n",
        " - 메모리 값이 같은 이유다.\n",
        "    - 공간 효율성, 메모리 효율성 때문.\n",
        "    - 전체 값을 항상 메모리에 복사면 그만큼 속도가 느려지고 메모리도 공간이 부족하기 때문이다.\n",
        "    - 주소를 복사해서 사용을 하는 얕은 복사를 파이썬은 기본 복사로 차용을 하고 있다.\n"
      ],
      "metadata": {
        "id": "QqN92mL1AWlp"
      }
    },
    {
      "cell_type": "code",
      "source": [
        "a = 1\n",
        "a = b"
      ],
      "metadata": {
        "id": "NDsA_hBoBMgg"
      },
      "execution_count": 52,
      "outputs": []
    },
    {
      "cell_type": "code",
      "source": [
        "id(a), id(b)"
      ],
      "metadata": {
        "colab": {
          "base_uri": "https://localhost:8080/"
        },
        "id": "bQgTBLSzBONh",
        "outputId": "c3788966-e34d-4685-ba00-c29aaf1e02dc"
      },
      "execution_count": 53,
      "outputs": [
        {
          "output_type": "execute_result",
          "data": {
            "text/plain": [
              "(140154413835120, 140154413835120)"
            ]
          },
          "metadata": {},
          "execution_count": 53
        }
      ]
    },
    {
      "cell_type": "markdown",
      "source": [
        "#### int, float, bool 값 자체가 복사가 됩니다.,\n",
        "    시퀀스 타입은 전부 얕은 복수(메모리주소)가 복사되는게 기본이다."
      ],
      "metadata": {
        "id": "Bx08ZYCiBPn3"
      }
    },
    {
      "cell_type": "markdown",
      "source": [
        "- 슬라이싱 하면 값 제대로 바뀌고 원본도 보존되는 거 같은데 왜 얕은 복사일까?\n",
        "- 차원을 하나 더 깊에 들어가면 여전히 메모리 주소를 복사하기 때문이다."
      ],
      "metadata": {
        "id": "xAqtnoXqC0SB"
      }
    },
    {
      "cell_type": "code",
      "source": [
        "arr2D = ['Hello', 'Bye', 'Hi', ['Goodnight', 'Goodmorning', 'Goodafternoon']]"
      ],
      "metadata": {
        "id": "gPHmz_t9Dn1B"
      },
      "execution_count": 54,
      "outputs": []
    },
    {
      "cell_type": "code",
      "source": [
        "arr2Dcopy = arr2D"
      ],
      "metadata": {
        "id": "Pe0zXCduEM0x"
      },
      "execution_count": 55,
      "outputs": []
    },
    {
      "cell_type": "code",
      "source": [
        "id(arr2Dcopy), id(arr2D)"
      ],
      "metadata": {
        "colab": {
          "base_uri": "https://localhost:8080/"
        },
        "id": "FLS7OFulEO4i",
        "outputId": "c16a41f7-31c2-4b5a-d232-88cb798d33c2"
      },
      "execution_count": 56,
      "outputs": [
        {
          "output_type": "execute_result",
          "data": {
            "text/plain": [
              "(140154403107296, 140154403107296)"
            ]
          },
          "metadata": {},
          "execution_count": 56
        }
      ]
    },
    {
      "cell_type": "code",
      "source": [
        "arr2Dcopy2 = arr2Dcopy[2:5]"
      ],
      "metadata": {
        "id": "6A7GG1FPEVKY"
      },
      "execution_count": 57,
      "outputs": []
    },
    {
      "cell_type": "code",
      "source": [
        "id(arr2Dcopy2), id(arr2Dcopy), id(arr2D)"
      ],
      "metadata": {
        "colab": {
          "base_uri": "https://localhost:8080/"
        },
        "id": "-6yz3Im7EZtB",
        "outputId": "88331590-8822-4e86-9bdf-54efc514500c"
      },
      "execution_count": 58,
      "outputs": [
        {
          "output_type": "execute_result",
          "data": {
            "text/plain": [
              "(140154413723072, 140154403107296, 140154403107296)"
            ]
          },
          "metadata": {},
          "execution_count": 58
        }
      ]
    },
    {
      "cell_type": "markdown",
      "source": [
        "### 깊은복사\n",
        "- 파이썬에서는 깊은 복사라는 다른 방법을 제공해서 시퀀스 타입의 깊이가 깊어질 때 메모리주소를 참조해서 원본을 훼손하는 일을 막고 있다.\n",
        "- copy라는 모듈의 dedpcopyㅇ를 사용해야된다."
      ],
      "metadata": {
        "id": "DS-yEfDPEgNx"
      }
    },
    {
      "cell_type": "code",
      "source": [
        "import copy"
      ],
      "metadata": {
        "id": "VaDnBGnSE0l4"
      },
      "execution_count": 59,
      "outputs": []
    },
    {
      "cell_type": "code",
      "source": [
        "arr2Ddeep = copy.deepcopy(arr2D)"
      ],
      "metadata": {
        "id": "29hz6poSE2Dh"
      },
      "execution_count": 60,
      "outputs": []
    },
    {
      "cell_type": "code",
      "source": [
        "from copy import deepcopy\n",
        "arr2Ddeep = deepcopy(arr2D)"
      ],
      "metadata": {
        "id": "hrXLAT1qE9xT"
      },
      "execution_count": 61,
      "outputs": []
    },
    {
      "cell_type": "code",
      "source": [
        "id(arr2Ddeep), id(arr2D)"
      ],
      "metadata": {
        "colab": {
          "base_uri": "https://localhost:8080/"
        },
        "id": "oS3BtV_LFK5i",
        "outputId": "fe42ca24-b87f-4a95-e3e6-ac975f0de941"
      },
      "execution_count": 62,
      "outputs": [
        {
          "output_type": "execute_result",
          "data": {
            "text/plain": [
              "(140154413876880, 140154403107296)"
            ]
          },
          "metadata": {},
          "execution_count": 62
        }
      ]
    },
    {
      "cell_type": "code",
      "source": [
        "arr2Ddeep= arr2D.copy()\n",
        "id(arr2Ddeep), id(arr2D)"
      ],
      "metadata": {
        "colab": {
          "base_uri": "https://localhost:8080/"
        },
        "id": "SN2I2QikGDFy",
        "outputId": "2aa87176-7d27-4bf1-9013-2dd0b0190f5e"
      },
      "execution_count": 63,
      "outputs": [
        {
          "output_type": "execute_result",
          "data": {
            "text/plain": [
              "(140154402997744, 140154403107296)"
            ]
          },
          "metadata": {},
          "execution_count": 63
        }
      ]
    },
    {
      "cell_type": "markdown",
      "source": [
        "### 실습1 🧪\n",
        "- 1 ~ 25까지의 정수 중 랜덤한 6개 숫자로 된 배열 c, d를 얕은 복사를 이용해서 2개 생성하고 배열 c의 1번 인덱스 값을 5로 각각 변경 후 출력해 보세요.\n"
      ],
      "metadata": {
        "id": "_29mibMiISqK"
      }
    },
    {
      "cell_type": "code",
      "source": [
        "from random import shuffle, sample\n",
        "k = list(range(1,25))\n",
        "shuffle(k)\n",
        "a1 = sample(k, 6)\n",
        "c = a1\n",
        "d = a1\n",
        "c[1] = 5\n",
        "print(id(c), id(d))\n",
        "print(a1)"
      ],
      "metadata": {
        "colab": {
          "base_uri": "https://localhost:8080/"
        },
        "id": "Up6oVRWwLKHF",
        "outputId": "4e6b1fed-2379-4dc9-a7c0-64b1d70eaf75"
      },
      "execution_count": 64,
      "outputs": [
        {
          "output_type": "stream",
          "name": "stdout",
          "text": [
            "140154413880976 140154413880976\n",
            "[15, 5, 14, 21, 3, 6]\n"
          ]
        }
      ]
    },
    {
      "cell_type": "markdown",
      "source": [
        "### 실습2 🧪\n",
        "- 1 ~ 25까지의 정수 중 랜덤한 6개 숫자로 a, b를 deepcopy를 이용해서 2개 생성하고 배열 b의 1번 인덱스 값을 5로 각각 변경 후 출력해 보세요.\n"
      ],
      "metadata": {
        "id": "t-b1pB1_LLye"
      }
    },
    {
      "cell_type": "code",
      "source": [
        "from random import shuffle, sample\n",
        "from copy import deepcopy\n",
        "k = list(range(1,25))\n",
        "shuffle(k)\n",
        "a1 = sample(k, 6)\n",
        "a = deepcopy(a1)\n",
        "b = deepcopy(a1)\n",
        "b[1] = 5\n",
        "print(id(a), id(b))\n",
        "print(a1)"
      ],
      "metadata": {
        "colab": {
          "base_uri": "https://localhost:8080/"
        },
        "id": "Y7FGG39SLM56",
        "outputId": "6f33ad35-0bfd-4e69-fde5-a488cbecd51e"
      },
      "execution_count": 65,
      "outputs": [
        {
          "output_type": "stream",
          "name": "stdout",
          "text": [
            "140154464537968 140154403145840\n",
            "[18, 5, 6, 4, 22, 24]\n"
          ]
        }
      ]
    },
    {
      "cell_type": "markdown",
      "source": [
        "## 제어문\n",
        "- 대부분의 언어가 유사하다.\n",
        "- 조건문, 반복문\n",
        "- 위의 2가지로 전체 코드의 실행 흐름을 제어한다.\n",
        "\n",
        "- 프로그래밍은 저 두개가 전분다. 두개를 어떻게 잘 섰고 어떻게 간략하게 만드냐가 알고리즘\n",
        "- 연습을 많이 해야된다."
      ],
      "metadata": {
        "id": "zOoxRQSLMGoJ"
      }
    },
    {
      "cell_type": "markdown",
      "source": [
        "\n",
        "### 조건문(분기문)\n",
        "- 파이썬은 if문 하나만 제공한다.\n",
        "    - 쉽다. if문 하나만 있다.\n",
        "    - 파이썬의 철학?\n",
        "- if 명제:명령어들\n",
        "- 명령어의 들여쓰기를 잘해야된다.\n",
        "    - 들여쓰기가 다르면 다른 블록으로 인식한다.\n",
        "    - 들여쓰기를 할 떄는 탭과 공백을 구분하기 때문에 반드시 탭 or 공백 하나만 선택해서 같은 크기만큼 들여쓰기 해야된다"
      ],
      "metadata": {
        "id": "koeACwRCSKdT"
      }
    },
    {
      "cell_type": "code",
      "source": [
        "arr = [1,2,3,4,5,6]\n",
        "\n",
        "if 10 in arr:\n",
        "    print(\"있다\")\n",
        "    print(\"잘했어\")\n",
        "\n",
        "if 10 not in arr:\n",
        "    print(\"있다!!\")\n",
        "    print(\"잘했어!!\")"
      ],
      "metadata": {
        "colab": {
          "base_uri": "https://localhost:8080/"
        },
        "id": "TdQk9yfoSqwE",
        "outputId": "4f44e635-1a35-4ce4-9b05-11094a1e3dda"
      },
      "execution_count": 66,
      "outputs": [
        {
          "output_type": "stream",
          "name": "stdout",
          "text": [
            "있다!!\n",
            "잘했어!!\n"
          ]
        }
      ]
    },
    {
      "cell_type": "code",
      "source": [
        "if 10 in arr:\n",
        "    # 빈 블록을 절대 허용하지 않는다\n",
        "    # 블록 내에 반드시 무엇이라고 명령어를 채워 넣어야 한다\n",
        "    # pass 채원넣으면 에러를 막을 수 있다.\n",
        "    pass"
      ],
      "metadata": {
        "id": "_faJur8vY99j"
      },
      "execution_count": 67,
      "outputs": []
    },
    {
      "cell_type": "code",
      "source": [
        "if True :\n",
        "    # 참일때\n",
        "    pass\n",
        "else: #False\n",
        "    # 거짓일 때 출력할 실행문\n",
        "    pass"
      ],
      "metadata": {
        "id": "dvFfMtgfZbl-"
      },
      "execution_count": 68,
      "outputs": []
    },
    {
      "cell_type": "code",
      "source": [
        "# 사용자에게 직접 입력받는 함수\n",
        "input('어깨를 돌리셨습니까? Y/N')"
      ],
      "metadata": {
        "colab": {
          "base_uri": "https://localhost:8080/",
          "height": 54
        },
        "id": "kdrh4pN_Z_le",
        "outputId": "b37e8122-3d4b-48f2-c135-0f29e10d9f76"
      },
      "execution_count": 69,
      "outputs": [
        {
          "name": "stdout",
          "output_type": "stream",
          "text": [
            "어깨를 돌리셨습니까? Y/NY\n"
          ]
        },
        {
          "output_type": "execute_result",
          "data": {
            "text/plain": [
              "'Y'"
            ],
            "application/vnd.google.colaboratory.intrinsic+json": {
              "type": "string"
            }
          },
          "metadata": {},
          "execution_count": 69
        }
      ]
    },
    {
      "cell_type": "markdown",
      "source": [
        "### 실습 🧪\n",
        "- 어깨를 돌리셨습니까 물어보고 Y이면 좋군요. N이면 '그렇군요'를 출력해주세요."
      ],
      "metadata": {
        "id": "zW6J6tDZaKi1"
      }
    },
    {
      "cell_type": "code",
      "source": [
        "question = input('어깨를 돌리셨습니까? Y or N')\n",
        "question = question.upper()\n",
        "\n",
        "while(True):\n",
        "    if question == \"Y\":\n",
        "        print(\"좋군요\")\n",
        "        break\n",
        "    elif question == \"N\":\n",
        "        print(\"그렇군요\")\n",
        "        break\n",
        "    else:\n",
        "        question = input('Y or N 에서만 입력해주세요')\n",
        "        question = question.upper()"
      ],
      "metadata": {
        "colab": {
          "base_uri": "https://localhost:8080/"
        },
        "id": "5DyCbF2babh0",
        "outputId": "37c9c0f0-f5cd-4007-ced2-e0758c3f483f"
      },
      "execution_count": 70,
      "outputs": [
        {
          "output_type": "stream",
          "name": "stdout",
          "text": [
            "어깨를 돌리셨습니까? Y or NY\n",
            "좋군요\n"
          ]
        }
      ]
    },
    {
      "cell_type": "markdown",
      "source": [
        "- if 블록이랑 else 블록 두개만 있는 떄는 한곳으로 반드시 분기가 되어야 한다\n",
        "- True이거나 True가 ㅇ닌 모든 값 둘중에 하나 여야 한다\n",
        "\n",
        "- 만약 그렇지 않다?\n",
        "    - 참이면서 거짓인 명제가 있다 라는 말이다.\n",
        "    - 두 블록이 실행이 안되는 경우\n",
        "        - 참도 거짓도 아닌 경우 이런 경우도 잇을 수 없다\n",
        "    - 2가지 조건만 존재할 수는 없는\n",
        "\n",
        "    - and or not 으로 계속 뻗어나가는 생각의 줄기가 프로그래밍 분기문의 기본 원리가 되었다.\n",
        "\n",
        "- 다중 조건문\n",
        "\n",
        "```\n",
        "if 조건1:\n",
        "    조건1이 참일 때 실행문\n",
        "elif 조건2:\n",
        "    조건2가 참일 때 실행문\n",
        "else:\n",
        "    조건1도 2도 아닌 모든 상황에 실행문\n",
        "```"
      ],
      "metadata": {
        "id": "aeF3Jso3a2CA"
      }
    },
    {
      "cell_type": "markdown",
      "source": [
        "### 주사워 게임 실습 🧪\n",
        "- 두 사람이 주사위를 던져 높은 숫자가 나오면 이기는 게임을 작성한다\n",
        "- 주사위 숫자는 input으로 받은 값을 a, b라는 변수에 넣어서 비교한다\n",
        "- 이긴다, 진다, 비긴다"
      ],
      "metadata": {
        "id": "2L_NHlwjeZd_"
      }
    },
    {
      "cell_type": "code",
      "source": [
        "a, b = map(int,input(\"a b 숫자 사이공백으로 입력해주세요 : \").split(' '))\n",
        "\n",
        "if (a>6 or b>6 or a<1 or b<1):\n",
        "    print(\"둘중 하나가 6을 초과했습니다.\")\n",
        "elif (a > b):\n",
        "    print(\"a:\",a,\"b:\",b,\"a의 승리 입니다!\")\n",
        "elif (a < b):\n",
        "    print(\"b:\",a,\"b:\",b,\"b의 승리 입니다!\")\n",
        "else:\n",
        "    print(\"a:\",a,\"b:\",b,\"비겼습니다!\")"
      ],
      "metadata": {
        "colab": {
          "base_uri": "https://localhost:8080/"
        },
        "id": "snEHAMDnhLr8",
        "outputId": "ea070cde-1c0c-4dec-994f-5c0919b52571"
      },
      "execution_count": 72,
      "outputs": [
        {
          "output_type": "stream",
          "name": "stdout",
          "text": [
            "a b 숫자 사이공백으로 입력해주세요 : 1 3\n",
            "b: 1 b: 3 b의 승리 입니다!\n"
          ]
        }
      ]
    },
    {
      "cell_type": "code",
      "source": [
        "a = int(input('정육면체주사위굴리기'))\n",
        "b = int(input('정육면체주사위굴리기'))\n",
        "if (0<a<=6 and 0<b<=6):\n",
        "    if a < b:\n",
        "        print('a가 진다')\n",
        "    elif a > b:\n",
        "        print('a가 이긴다')\n",
        "    elif a == b:\n",
        "        print('비긴다')\n",
        "else:\n",
        "   print('다시')"
      ],
      "metadata": {
        "colab": {
          "base_uri": "https://localhost:8080/"
        },
        "id": "WHhQhFIwrete",
        "outputId": "11b8905d-1ff4-4c12-ce7f-90e27b9d7c04"
      },
      "execution_count": 74,
      "outputs": [
        {
          "output_type": "stream",
          "name": "stdout",
          "text": [
            "정육면체주사위굴리기0\n",
            "정육면체주사위굴리기2\n",
            "다시\n"
          ]
        }
      ]
    },
    {
      "cell_type": "code",
      "source": [
        "a = int(input(\"a의 주사위 숫자는?\"))\n",
        "b = int(input(\"b의 주사위 숫자는?\"))\n",
        "if (1<=a<=6) and (1<=b<=6):\n",
        "    print(\"잘못된 값을 입력했습니다.\")\n",
        "elif a > b:\n",
        "    print(\"a가 {0}값으로 이겼습니다.(b는 {1})\".format(a, b))\n",
        "elif a < b:\n",
        "    print(\"b가 {0}값으로 이겼습니다.(a는 {1})\".format(b, a))\n",
        "elif a == b:\n",
        "    print(\"{0}값으로 비겼습니다.\".format(a))\n",
        "else:\n",
        "    print(\"잘못된 값을 입력했습니다.\")"
      ],
      "metadata": {
        "id": "gm5FQGcJtI5J"
      },
      "execution_count": null,
      "outputs": []
    },
    {
      "cell_type": "markdown",
      "source": [
        "### arr = [1, 2, 3] 실습 🧪\n",
        "- arr 안에 1, 2, 3 중 어느 정수가 들어있으면 '참'\n",
        "- 그렇지 않으면 '거짓' 을 출력하는 조건문을 만들어 본다.\n"
      ],
      "metadata": {
        "id": "JKzyPcZPur7i"
      }
    },
    {
      "cell_type": "code",
      "source": [
        "arr=[1,2,3]\n",
        "if (1 in arr) or (2 in arr) or (3 in arr) :\n",
        "    print(\"참\")\n",
        "else :\n",
        "    print(\"거짓\")"
      ],
      "metadata": {
        "colab": {
          "base_uri": "https://localhost:8080/"
        },
        "id": "o5r-6Biku66x",
        "outputId": "1fc81b27-b88b-4a17-96a5-8b024d650c3c"
      },
      "execution_count": 82,
      "outputs": [
        {
          "output_type": "stream",
          "name": "stdout",
          "text": [
            "숫자 입력 1 ~ 33\n",
            "참\n"
          ]
        }
      ]
    },
    {
      "cell_type": "code",
      "source": [
        ""
      ],
      "metadata": {
        "id": "Vz7Bd7LWvYem"
      },
      "execution_count": null,
      "outputs": []
    }
  ]
}